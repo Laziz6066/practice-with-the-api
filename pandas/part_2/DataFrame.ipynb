{
 "cells": [
  {
   "cell_type": "code",
   "execution_count": 1,
   "id": "df853961",
   "metadata": {},
   "outputs": [],
   "source": [
    "import numpy as np\n",
    "import pandas as pd"
   ]
  },
  {
   "cell_type": "code",
   "execution_count": 2,
   "id": "508b7e2e",
   "metadata": {},
   "outputs": [],
   "source": [
    "my_df = pd.DataFrame(np.random.randn(4, 5), [1, 2, 3, 4], ['red', 'orange', 'yellow', 'green', 'blue'])"
   ]
  },
  {
   "cell_type": "code",
   "execution_count": 3,
   "id": "e16195d3",
   "metadata": {},
   "outputs": [
    {
     "data": {
      "text/html": [
       "<div>\n",
       "<style scoped>\n",
       "    .dataframe tbody tr th:only-of-type {\n",
       "        vertical-align: middle;\n",
       "    }\n",
       "\n",
       "    .dataframe tbody tr th {\n",
       "        vertical-align: top;\n",
       "    }\n",
       "\n",
       "    .dataframe thead th {\n",
       "        text-align: right;\n",
       "    }\n",
       "</style>\n",
       "<table border=\"1\" class=\"dataframe\">\n",
       "  <thead>\n",
       "    <tr style=\"text-align: right;\">\n",
       "      <th></th>\n",
       "      <th>red</th>\n",
       "      <th>orange</th>\n",
       "      <th>yellow</th>\n",
       "      <th>green</th>\n",
       "      <th>blue</th>\n",
       "    </tr>\n",
       "  </thead>\n",
       "  <tbody>\n",
       "    <tr>\n",
       "      <th>1</th>\n",
       "      <td>-0.735527</td>\n",
       "      <td>1.879896</td>\n",
       "      <td>0.607163</td>\n",
       "      <td>0.783060</td>\n",
       "      <td>2.103607</td>\n",
       "    </tr>\n",
       "    <tr>\n",
       "      <th>2</th>\n",
       "      <td>0.777713</td>\n",
       "      <td>0.237508</td>\n",
       "      <td>0.615852</td>\n",
       "      <td>-0.615684</td>\n",
       "      <td>0.318391</td>\n",
       "    </tr>\n",
       "    <tr>\n",
       "      <th>3</th>\n",
       "      <td>-0.930395</td>\n",
       "      <td>0.963432</td>\n",
       "      <td>-1.854828</td>\n",
       "      <td>-0.577871</td>\n",
       "      <td>1.313831</td>\n",
       "    </tr>\n",
       "    <tr>\n",
       "      <th>4</th>\n",
       "      <td>-0.617870</td>\n",
       "      <td>-2.056778</td>\n",
       "      <td>0.129281</td>\n",
       "      <td>0.098779</td>\n",
       "      <td>-0.561053</td>\n",
       "    </tr>\n",
       "  </tbody>\n",
       "</table>\n",
       "</div>"
      ],
      "text/plain": [
       "        red    orange    yellow     green      blue\n",
       "1 -0.735527  1.879896  0.607163  0.783060  2.103607\n",
       "2  0.777713  0.237508  0.615852 -0.615684  0.318391\n",
       "3 -0.930395  0.963432 -1.854828 -0.577871  1.313831\n",
       "4 -0.617870 -2.056778  0.129281  0.098779 -0.561053"
      ]
     },
     "execution_count": 3,
     "metadata": {},
     "output_type": "execute_result"
    }
   ],
   "source": [
    "my_df"
   ]
  },
  {
   "cell_type": "code",
   "execution_count": 4,
   "id": "ca3c3d15",
   "metadata": {},
   "outputs": [
    {
     "data": {
      "text/plain": [
       "1    1.879896\n",
       "2    0.237508\n",
       "3    0.963432\n",
       "4   -2.056778\n",
       "Name: orange, dtype: float64"
      ]
     },
     "execution_count": 4,
     "metadata": {},
     "output_type": "execute_result"
    }
   ],
   "source": [
    "my_df['orange']"
   ]
  },
  {
   "cell_type": "code",
   "execution_count": 5,
   "id": "a3208b54",
   "metadata": {},
   "outputs": [
    {
     "data": {
      "text/plain": [
       "1   -0.735527\n",
       "2    0.777713\n",
       "3   -0.930395\n",
       "4   -0.617870\n",
       "Name: red, dtype: float64"
      ]
     },
     "execution_count": 5,
     "metadata": {},
     "output_type": "execute_result"
    }
   ],
   "source": [
    "my_df['red']"
   ]
  },
  {
   "cell_type": "code",
   "execution_count": 6,
   "id": "3d06eb6a",
   "metadata": {},
   "outputs": [
    {
     "data": {
      "text/plain": [
       "pandas.core.series.Series"
      ]
     },
     "execution_count": 6,
     "metadata": {},
     "output_type": "execute_result"
    }
   ],
   "source": [
    "type(my_df['orange'])"
   ]
  },
  {
   "cell_type": "code",
   "execution_count": 7,
   "id": "ea1752f5",
   "metadata": {},
   "outputs": [
    {
     "data": {
      "text/plain": [
       "pandas.core.frame.DataFrame"
      ]
     },
     "execution_count": 7,
     "metadata": {},
     "output_type": "execute_result"
    }
   ],
   "source": [
    "type(my_df)"
   ]
  },
  {
   "cell_type": "code",
   "execution_count": 8,
   "id": "1f94b340",
   "metadata": {},
   "outputs": [
    {
     "data": {
      "text/html": [
       "<div>\n",
       "<style scoped>\n",
       "    .dataframe tbody tr th:only-of-type {\n",
       "        vertical-align: middle;\n",
       "    }\n",
       "\n",
       "    .dataframe tbody tr th {\n",
       "        vertical-align: top;\n",
       "    }\n",
       "\n",
       "    .dataframe thead th {\n",
       "        text-align: right;\n",
       "    }\n",
       "</style>\n",
       "<table border=\"1\" class=\"dataframe\">\n",
       "  <thead>\n",
       "    <tr style=\"text-align: right;\">\n",
       "      <th></th>\n",
       "      <th>orange</th>\n",
       "      <th>yellow</th>\n",
       "    </tr>\n",
       "  </thead>\n",
       "  <tbody>\n",
       "    <tr>\n",
       "      <th>1</th>\n",
       "      <td>1.879896</td>\n",
       "      <td>0.607163</td>\n",
       "    </tr>\n",
       "    <tr>\n",
       "      <th>2</th>\n",
       "      <td>0.237508</td>\n",
       "      <td>0.615852</td>\n",
       "    </tr>\n",
       "    <tr>\n",
       "      <th>3</th>\n",
       "      <td>0.963432</td>\n",
       "      <td>-1.854828</td>\n",
       "    </tr>\n",
       "    <tr>\n",
       "      <th>4</th>\n",
       "      <td>-2.056778</td>\n",
       "      <td>0.129281</td>\n",
       "    </tr>\n",
       "  </tbody>\n",
       "</table>\n",
       "</div>"
      ],
      "text/plain": [
       "     orange    yellow\n",
       "1  1.879896  0.607163\n",
       "2  0.237508  0.615852\n",
       "3  0.963432 -1.854828\n",
       "4 -2.056778  0.129281"
      ]
     },
     "execution_count": 8,
     "metadata": {},
     "output_type": "execute_result"
    }
   ],
   "source": [
    "my_df[['orange', 'yellow']]"
   ]
  },
  {
   "cell_type": "code",
   "execution_count": 9,
   "id": "248f2506",
   "metadata": {},
   "outputs": [
    {
     "data": {
      "text/plain": [
       "pandas.core.frame.DataFrame"
      ]
     },
     "execution_count": 9,
     "metadata": {},
     "output_type": "execute_result"
    }
   ],
   "source": [
    "type(my_df[['orange', 'yellow']])"
   ]
  },
  {
   "cell_type": "code",
   "execution_count": 10,
   "id": "f081a9b7",
   "metadata": {},
   "outputs": [],
   "source": [
    "my_df['indigo'] = my_df['blue']"
   ]
  },
  {
   "cell_type": "code",
   "execution_count": 11,
   "id": "3d554d51",
   "metadata": {},
   "outputs": [
    {
     "data": {
      "text/html": [
       "<div>\n",
       "<style scoped>\n",
       "    .dataframe tbody tr th:only-of-type {\n",
       "        vertical-align: middle;\n",
       "    }\n",
       "\n",
       "    .dataframe tbody tr th {\n",
       "        vertical-align: top;\n",
       "    }\n",
       "\n",
       "    .dataframe thead th {\n",
       "        text-align: right;\n",
       "    }\n",
       "</style>\n",
       "<table border=\"1\" class=\"dataframe\">\n",
       "  <thead>\n",
       "    <tr style=\"text-align: right;\">\n",
       "      <th></th>\n",
       "      <th>red</th>\n",
       "      <th>orange</th>\n",
       "      <th>yellow</th>\n",
       "      <th>green</th>\n",
       "      <th>blue</th>\n",
       "      <th>indigo</th>\n",
       "    </tr>\n",
       "  </thead>\n",
       "  <tbody>\n",
       "    <tr>\n",
       "      <th>1</th>\n",
       "      <td>-0.735527</td>\n",
       "      <td>1.879896</td>\n",
       "      <td>0.607163</td>\n",
       "      <td>0.783060</td>\n",
       "      <td>2.103607</td>\n",
       "      <td>2.103607</td>\n",
       "    </tr>\n",
       "    <tr>\n",
       "      <th>2</th>\n",
       "      <td>0.777713</td>\n",
       "      <td>0.237508</td>\n",
       "      <td>0.615852</td>\n",
       "      <td>-0.615684</td>\n",
       "      <td>0.318391</td>\n",
       "      <td>0.318391</td>\n",
       "    </tr>\n",
       "    <tr>\n",
       "      <th>3</th>\n",
       "      <td>-0.930395</td>\n",
       "      <td>0.963432</td>\n",
       "      <td>-1.854828</td>\n",
       "      <td>-0.577871</td>\n",
       "      <td>1.313831</td>\n",
       "      <td>1.313831</td>\n",
       "    </tr>\n",
       "    <tr>\n",
       "      <th>4</th>\n",
       "      <td>-0.617870</td>\n",
       "      <td>-2.056778</td>\n",
       "      <td>0.129281</td>\n",
       "      <td>0.098779</td>\n",
       "      <td>-0.561053</td>\n",
       "      <td>-0.561053</td>\n",
       "    </tr>\n",
       "  </tbody>\n",
       "</table>\n",
       "</div>"
      ],
      "text/plain": [
       "        red    orange    yellow     green      blue    indigo\n",
       "1 -0.735527  1.879896  0.607163  0.783060  2.103607  2.103607\n",
       "2  0.777713  0.237508  0.615852 -0.615684  0.318391  0.318391\n",
       "3 -0.930395  0.963432 -1.854828 -0.577871  1.313831  1.313831\n",
       "4 -0.617870 -2.056778  0.129281  0.098779 -0.561053 -0.561053"
      ]
     },
     "execution_count": 11,
     "metadata": {},
     "output_type": "execute_result"
    }
   ],
   "source": [
    "my_df"
   ]
  },
  {
   "cell_type": "code",
   "execution_count": 12,
   "id": "e3e0bf56",
   "metadata": {},
   "outputs": [],
   "source": [
    "my_df['violet'] = my_df['blue'] + my_df['indigo']"
   ]
  },
  {
   "cell_type": "code",
   "execution_count": 13,
   "id": "ee2bb11d",
   "metadata": {},
   "outputs": [
    {
     "data": {
      "text/html": [
       "<div>\n",
       "<style scoped>\n",
       "    .dataframe tbody tr th:only-of-type {\n",
       "        vertical-align: middle;\n",
       "    }\n",
       "\n",
       "    .dataframe tbody tr th {\n",
       "        vertical-align: top;\n",
       "    }\n",
       "\n",
       "    .dataframe thead th {\n",
       "        text-align: right;\n",
       "    }\n",
       "</style>\n",
       "<table border=\"1\" class=\"dataframe\">\n",
       "  <thead>\n",
       "    <tr style=\"text-align: right;\">\n",
       "      <th></th>\n",
       "      <th>red</th>\n",
       "      <th>orange</th>\n",
       "      <th>yellow</th>\n",
       "      <th>green</th>\n",
       "      <th>blue</th>\n",
       "      <th>indigo</th>\n",
       "      <th>violet</th>\n",
       "    </tr>\n",
       "  </thead>\n",
       "  <tbody>\n",
       "    <tr>\n",
       "      <th>1</th>\n",
       "      <td>-0.735527</td>\n",
       "      <td>1.879896</td>\n",
       "      <td>0.607163</td>\n",
       "      <td>0.783060</td>\n",
       "      <td>2.103607</td>\n",
       "      <td>2.103607</td>\n",
       "      <td>4.207213</td>\n",
       "    </tr>\n",
       "    <tr>\n",
       "      <th>2</th>\n",
       "      <td>0.777713</td>\n",
       "      <td>0.237508</td>\n",
       "      <td>0.615852</td>\n",
       "      <td>-0.615684</td>\n",
       "      <td>0.318391</td>\n",
       "      <td>0.318391</td>\n",
       "      <td>0.636782</td>\n",
       "    </tr>\n",
       "    <tr>\n",
       "      <th>3</th>\n",
       "      <td>-0.930395</td>\n",
       "      <td>0.963432</td>\n",
       "      <td>-1.854828</td>\n",
       "      <td>-0.577871</td>\n",
       "      <td>1.313831</td>\n",
       "      <td>1.313831</td>\n",
       "      <td>2.627661</td>\n",
       "    </tr>\n",
       "    <tr>\n",
       "      <th>4</th>\n",
       "      <td>-0.617870</td>\n",
       "      <td>-2.056778</td>\n",
       "      <td>0.129281</td>\n",
       "      <td>0.098779</td>\n",
       "      <td>-0.561053</td>\n",
       "      <td>-0.561053</td>\n",
       "      <td>-1.122107</td>\n",
       "    </tr>\n",
       "  </tbody>\n",
       "</table>\n",
       "</div>"
      ],
      "text/plain": [
       "        red    orange    yellow     green      blue    indigo    violet\n",
       "1 -0.735527  1.879896  0.607163  0.783060  2.103607  2.103607  4.207213\n",
       "2  0.777713  0.237508  0.615852 -0.615684  0.318391  0.318391  0.636782\n",
       "3 -0.930395  0.963432 -1.854828 -0.577871  1.313831  1.313831  2.627661\n",
       "4 -0.617870 -2.056778  0.129281  0.098779 -0.561053 -0.561053 -1.122107"
      ]
     },
     "execution_count": 13,
     "metadata": {},
     "output_type": "execute_result"
    }
   ],
   "source": [
    "my_df"
   ]
  },
  {
   "cell_type": "code",
   "execution_count": 14,
   "id": "55854839",
   "metadata": {},
   "outputs": [
    {
     "data": {
      "text/plain": [
       "red       0.777713\n",
       "orange    0.237508\n",
       "yellow    0.615852\n",
       "green    -0.615684\n",
       "blue      0.318391\n",
       "indigo    0.318391\n",
       "violet    0.636782\n",
       "Name: 2, dtype: float64"
      ]
     },
     "execution_count": 14,
     "metadata": {},
     "output_type": "execute_result"
    }
   ],
   "source": [
    "my_df.loc[2]"
   ]
  },
  {
   "cell_type": "code",
   "execution_count": 15,
   "id": "14ed56f0",
   "metadata": {},
   "outputs": [
    {
     "data": {
      "text/plain": [
       "red       0.777713\n",
       "orange    0.237508\n",
       "yellow    0.615852\n",
       "green    -0.615684\n",
       "blue      0.318391\n",
       "indigo    0.318391\n",
       "violet    0.636782\n",
       "Name: 2, dtype: float64"
      ]
     },
     "execution_count": 15,
     "metadata": {},
     "output_type": "execute_result"
    }
   ],
   "source": [
    "my_df.iloc[1]"
   ]
  },
  {
   "cell_type": "code",
   "execution_count": 16,
   "id": "5af49499",
   "metadata": {},
   "outputs": [],
   "source": [
    "my_df.iloc[2] = my_df.iloc[1]"
   ]
  },
  {
   "cell_type": "code",
   "execution_count": 17,
   "id": "2fe8de95",
   "metadata": {},
   "outputs": [
    {
     "data": {
      "text/html": [
       "<div>\n",
       "<style scoped>\n",
       "    .dataframe tbody tr th:only-of-type {\n",
       "        vertical-align: middle;\n",
       "    }\n",
       "\n",
       "    .dataframe tbody tr th {\n",
       "        vertical-align: top;\n",
       "    }\n",
       "\n",
       "    .dataframe thead th {\n",
       "        text-align: right;\n",
       "    }\n",
       "</style>\n",
       "<table border=\"1\" class=\"dataframe\">\n",
       "  <thead>\n",
       "    <tr style=\"text-align: right;\">\n",
       "      <th></th>\n",
       "      <th>red</th>\n",
       "      <th>orange</th>\n",
       "      <th>yellow</th>\n",
       "      <th>green</th>\n",
       "      <th>blue</th>\n",
       "      <th>indigo</th>\n",
       "      <th>violet</th>\n",
       "    </tr>\n",
       "  </thead>\n",
       "  <tbody>\n",
       "    <tr>\n",
       "      <th>1</th>\n",
       "      <td>-0.735527</td>\n",
       "      <td>1.879896</td>\n",
       "      <td>0.607163</td>\n",
       "      <td>0.783060</td>\n",
       "      <td>2.103607</td>\n",
       "      <td>2.103607</td>\n",
       "      <td>4.207213</td>\n",
       "    </tr>\n",
       "    <tr>\n",
       "      <th>2</th>\n",
       "      <td>0.777713</td>\n",
       "      <td>0.237508</td>\n",
       "      <td>0.615852</td>\n",
       "      <td>-0.615684</td>\n",
       "      <td>0.318391</td>\n",
       "      <td>0.318391</td>\n",
       "      <td>0.636782</td>\n",
       "    </tr>\n",
       "    <tr>\n",
       "      <th>3</th>\n",
       "      <td>0.777713</td>\n",
       "      <td>0.237508</td>\n",
       "      <td>0.615852</td>\n",
       "      <td>-0.615684</td>\n",
       "      <td>0.318391</td>\n",
       "      <td>0.318391</td>\n",
       "      <td>0.636782</td>\n",
       "    </tr>\n",
       "    <tr>\n",
       "      <th>4</th>\n",
       "      <td>-0.617870</td>\n",
       "      <td>-2.056778</td>\n",
       "      <td>0.129281</td>\n",
       "      <td>0.098779</td>\n",
       "      <td>-0.561053</td>\n",
       "      <td>-0.561053</td>\n",
       "      <td>-1.122107</td>\n",
       "    </tr>\n",
       "  </tbody>\n",
       "</table>\n",
       "</div>"
      ],
      "text/plain": [
       "        red    orange    yellow     green      blue    indigo    violet\n",
       "1 -0.735527  1.879896  0.607163  0.783060  2.103607  2.103607  4.207213\n",
       "2  0.777713  0.237508  0.615852 -0.615684  0.318391  0.318391  0.636782\n",
       "3  0.777713  0.237508  0.615852 -0.615684  0.318391  0.318391  0.636782\n",
       "4 -0.617870 -2.056778  0.129281  0.098779 -0.561053 -0.561053 -1.122107"
      ]
     },
     "execution_count": 17,
     "metadata": {},
     "output_type": "execute_result"
    }
   ],
   "source": [
    "my_df"
   ]
  },
  {
   "cell_type": "code",
   "execution_count": 20,
   "id": "d29067f2",
   "metadata": {},
   "outputs": [
    {
     "data": {
      "text/plain": [
       "0.23750822608472538"
      ]
     },
     "execution_count": 20,
     "metadata": {},
     "output_type": "execute_result"
    }
   ],
   "source": [
    "my_df.loc[2, 'orange']"
   ]
  },
  {
   "cell_type": "code",
   "execution_count": 21,
   "id": "ac4e3ff4",
   "metadata": {},
   "outputs": [
    {
     "data": {
      "text/html": [
       "<div>\n",
       "<style scoped>\n",
       "    .dataframe tbody tr th:only-of-type {\n",
       "        vertical-align: middle;\n",
       "    }\n",
       "\n",
       "    .dataframe tbody tr th {\n",
       "        vertical-align: top;\n",
       "    }\n",
       "\n",
       "    .dataframe thead th {\n",
       "        text-align: right;\n",
       "    }\n",
       "</style>\n",
       "<table border=\"1\" class=\"dataframe\">\n",
       "  <thead>\n",
       "    <tr style=\"text-align: right;\">\n",
       "      <th></th>\n",
       "      <th>blue</th>\n",
       "      <th>violet</th>\n",
       "    </tr>\n",
       "  </thead>\n",
       "  <tbody>\n",
       "    <tr>\n",
       "      <th>1</th>\n",
       "      <td>2.103607</td>\n",
       "      <td>4.207213</td>\n",
       "    </tr>\n",
       "    <tr>\n",
       "      <th>3</th>\n",
       "      <td>0.318391</td>\n",
       "      <td>0.636782</td>\n",
       "    </tr>\n",
       "  </tbody>\n",
       "</table>\n",
       "</div>"
      ],
      "text/plain": [
       "       blue    violet\n",
       "1  2.103607  4.207213\n",
       "3  0.318391  0.636782"
      ]
     },
     "execution_count": 21,
     "metadata": {},
     "output_type": "execute_result"
    }
   ],
   "source": [
    "my_df.loc[[1,3], ['blue', 'violet']]"
   ]
  },
  {
   "cell_type": "code",
   "execution_count": 24,
   "id": "5c566479",
   "metadata": {},
   "outputs": [],
   "source": [
    "my_df.drop(3, inplace=True)"
   ]
  },
  {
   "cell_type": "code",
   "execution_count": 25,
   "id": "ff7f72f4",
   "metadata": {},
   "outputs": [
    {
     "data": {
      "text/html": [
       "<div>\n",
       "<style scoped>\n",
       "    .dataframe tbody tr th:only-of-type {\n",
       "        vertical-align: middle;\n",
       "    }\n",
       "\n",
       "    .dataframe tbody tr th {\n",
       "        vertical-align: top;\n",
       "    }\n",
       "\n",
       "    .dataframe thead th {\n",
       "        text-align: right;\n",
       "    }\n",
       "</style>\n",
       "<table border=\"1\" class=\"dataframe\">\n",
       "  <thead>\n",
       "    <tr style=\"text-align: right;\">\n",
       "      <th></th>\n",
       "      <th>red</th>\n",
       "      <th>orange</th>\n",
       "      <th>yellow</th>\n",
       "      <th>green</th>\n",
       "      <th>blue</th>\n",
       "      <th>indigo</th>\n",
       "      <th>violet</th>\n",
       "    </tr>\n",
       "  </thead>\n",
       "  <tbody>\n",
       "    <tr>\n",
       "      <th>1</th>\n",
       "      <td>-0.735527</td>\n",
       "      <td>1.879896</td>\n",
       "      <td>0.607163</td>\n",
       "      <td>0.783060</td>\n",
       "      <td>2.103607</td>\n",
       "      <td>2.103607</td>\n",
       "      <td>4.207213</td>\n",
       "    </tr>\n",
       "    <tr>\n",
       "      <th>2</th>\n",
       "      <td>0.777713</td>\n",
       "      <td>0.237508</td>\n",
       "      <td>0.615852</td>\n",
       "      <td>-0.615684</td>\n",
       "      <td>0.318391</td>\n",
       "      <td>0.318391</td>\n",
       "      <td>0.636782</td>\n",
       "    </tr>\n",
       "    <tr>\n",
       "      <th>4</th>\n",
       "      <td>-0.617870</td>\n",
       "      <td>-2.056778</td>\n",
       "      <td>0.129281</td>\n",
       "      <td>0.098779</td>\n",
       "      <td>-0.561053</td>\n",
       "      <td>-0.561053</td>\n",
       "      <td>-1.122107</td>\n",
       "    </tr>\n",
       "  </tbody>\n",
       "</table>\n",
       "</div>"
      ],
      "text/plain": [
       "        red    orange    yellow     green      blue    indigo    violet\n",
       "1 -0.735527  1.879896  0.607163  0.783060  2.103607  2.103607  4.207213\n",
       "2  0.777713  0.237508  0.615852 -0.615684  0.318391  0.318391  0.636782\n",
       "4 -0.617870 -2.056778  0.129281  0.098779 -0.561053 -0.561053 -1.122107"
      ]
     },
     "execution_count": 25,
     "metadata": {},
     "output_type": "execute_result"
    }
   ],
   "source": [
    "my_df"
   ]
  },
  {
   "cell_type": "code",
   "execution_count": 26,
   "id": "d52d2d13",
   "metadata": {},
   "outputs": [
    {
     "data": {
      "text/html": [
       "<div>\n",
       "<style scoped>\n",
       "    .dataframe tbody tr th:only-of-type {\n",
       "        vertical-align: middle;\n",
       "    }\n",
       "\n",
       "    .dataframe tbody tr th {\n",
       "        vertical-align: top;\n",
       "    }\n",
       "\n",
       "    .dataframe thead th {\n",
       "        text-align: right;\n",
       "    }\n",
       "</style>\n",
       "<table border=\"1\" class=\"dataframe\">\n",
       "  <thead>\n",
       "    <tr style=\"text-align: right;\">\n",
       "      <th></th>\n",
       "      <th>red</th>\n",
       "      <th>orange</th>\n",
       "      <th>yellow</th>\n",
       "      <th>green</th>\n",
       "      <th>blue</th>\n",
       "      <th>violet</th>\n",
       "    </tr>\n",
       "  </thead>\n",
       "  <tbody>\n",
       "    <tr>\n",
       "      <th>1</th>\n",
       "      <td>-0.735527</td>\n",
       "      <td>1.879896</td>\n",
       "      <td>0.607163</td>\n",
       "      <td>0.783060</td>\n",
       "      <td>2.103607</td>\n",
       "      <td>4.207213</td>\n",
       "    </tr>\n",
       "    <tr>\n",
       "      <th>2</th>\n",
       "      <td>0.777713</td>\n",
       "      <td>0.237508</td>\n",
       "      <td>0.615852</td>\n",
       "      <td>-0.615684</td>\n",
       "      <td>0.318391</td>\n",
       "      <td>0.636782</td>\n",
       "    </tr>\n",
       "    <tr>\n",
       "      <th>4</th>\n",
       "      <td>-0.617870</td>\n",
       "      <td>-2.056778</td>\n",
       "      <td>0.129281</td>\n",
       "      <td>0.098779</td>\n",
       "      <td>-0.561053</td>\n",
       "      <td>-1.122107</td>\n",
       "    </tr>\n",
       "  </tbody>\n",
       "</table>\n",
       "</div>"
      ],
      "text/plain": [
       "        red    orange    yellow     green      blue    violet\n",
       "1 -0.735527  1.879896  0.607163  0.783060  2.103607  4.207213\n",
       "2  0.777713  0.237508  0.615852 -0.615684  0.318391  0.636782\n",
       "4 -0.617870 -2.056778  0.129281  0.098779 -0.561053 -1.122107"
      ]
     },
     "execution_count": 26,
     "metadata": {},
     "output_type": "execute_result"
    }
   ],
   "source": [
    "my_df.drop('indigo', axis=1)"
   ]
  },
  {
   "cell_type": "code",
   "execution_count": 27,
   "id": "13d93b75",
   "metadata": {},
   "outputs": [
    {
     "data": {
      "text/html": [
       "<div>\n",
       "<style scoped>\n",
       "    .dataframe tbody tr th:only-of-type {\n",
       "        vertical-align: middle;\n",
       "    }\n",
       "\n",
       "    .dataframe tbody tr th {\n",
       "        vertical-align: top;\n",
       "    }\n",
       "\n",
       "    .dataframe thead th {\n",
       "        text-align: right;\n",
       "    }\n",
       "</style>\n",
       "<table border=\"1\" class=\"dataframe\">\n",
       "  <thead>\n",
       "    <tr style=\"text-align: right;\">\n",
       "      <th></th>\n",
       "      <th>red</th>\n",
       "      <th>orange</th>\n",
       "      <th>yellow</th>\n",
       "      <th>green</th>\n",
       "      <th>blue</th>\n",
       "      <th>indigo</th>\n",
       "      <th>violet</th>\n",
       "    </tr>\n",
       "  </thead>\n",
       "  <tbody>\n",
       "    <tr>\n",
       "      <th>1</th>\n",
       "      <td>-0.735527</td>\n",
       "      <td>1.879896</td>\n",
       "      <td>0.607163</td>\n",
       "      <td>0.783060</td>\n",
       "      <td>2.103607</td>\n",
       "      <td>2.103607</td>\n",
       "      <td>4.207213</td>\n",
       "    </tr>\n",
       "    <tr>\n",
       "      <th>2</th>\n",
       "      <td>0.777713</td>\n",
       "      <td>0.237508</td>\n",
       "      <td>0.615852</td>\n",
       "      <td>-0.615684</td>\n",
       "      <td>0.318391</td>\n",
       "      <td>0.318391</td>\n",
       "      <td>0.636782</td>\n",
       "    </tr>\n",
       "    <tr>\n",
       "      <th>4</th>\n",
       "      <td>-0.617870</td>\n",
       "      <td>-2.056778</td>\n",
       "      <td>0.129281</td>\n",
       "      <td>0.098779</td>\n",
       "      <td>-0.561053</td>\n",
       "      <td>-0.561053</td>\n",
       "      <td>-1.122107</td>\n",
       "    </tr>\n",
       "  </tbody>\n",
       "</table>\n",
       "</div>"
      ],
      "text/plain": [
       "        red    orange    yellow     green      blue    indigo    violet\n",
       "1 -0.735527  1.879896  0.607163  0.783060  2.103607  2.103607  4.207213\n",
       "2  0.777713  0.237508  0.615852 -0.615684  0.318391  0.318391  0.636782\n",
       "4 -0.617870 -2.056778  0.129281  0.098779 -0.561053 -0.561053 -1.122107"
      ]
     },
     "execution_count": 27,
     "metadata": {},
     "output_type": "execute_result"
    }
   ],
   "source": [
    "my_df"
   ]
  },
  {
   "cell_type": "code",
   "execution_count": 28,
   "id": "fdb13316",
   "metadata": {},
   "outputs": [],
   "source": [
    "my_df.drop('indigo', axis=1, inplace=True)"
   ]
  },
  {
   "cell_type": "code",
   "execution_count": 29,
   "id": "6f61ed81",
   "metadata": {},
   "outputs": [
    {
     "data": {
      "text/html": [
       "<div>\n",
       "<style scoped>\n",
       "    .dataframe tbody tr th:only-of-type {\n",
       "        vertical-align: middle;\n",
       "    }\n",
       "\n",
       "    .dataframe tbody tr th {\n",
       "        vertical-align: top;\n",
       "    }\n",
       "\n",
       "    .dataframe thead th {\n",
       "        text-align: right;\n",
       "    }\n",
       "</style>\n",
       "<table border=\"1\" class=\"dataframe\">\n",
       "  <thead>\n",
       "    <tr style=\"text-align: right;\">\n",
       "      <th></th>\n",
       "      <th>red</th>\n",
       "      <th>orange</th>\n",
       "      <th>yellow</th>\n",
       "      <th>green</th>\n",
       "      <th>blue</th>\n",
       "      <th>violet</th>\n",
       "    </tr>\n",
       "  </thead>\n",
       "  <tbody>\n",
       "    <tr>\n",
       "      <th>1</th>\n",
       "      <td>-0.735527</td>\n",
       "      <td>1.879896</td>\n",
       "      <td>0.607163</td>\n",
       "      <td>0.783060</td>\n",
       "      <td>2.103607</td>\n",
       "      <td>4.207213</td>\n",
       "    </tr>\n",
       "    <tr>\n",
       "      <th>2</th>\n",
       "      <td>0.777713</td>\n",
       "      <td>0.237508</td>\n",
       "      <td>0.615852</td>\n",
       "      <td>-0.615684</td>\n",
       "      <td>0.318391</td>\n",
       "      <td>0.636782</td>\n",
       "    </tr>\n",
       "    <tr>\n",
       "      <th>4</th>\n",
       "      <td>-0.617870</td>\n",
       "      <td>-2.056778</td>\n",
       "      <td>0.129281</td>\n",
       "      <td>0.098779</td>\n",
       "      <td>-0.561053</td>\n",
       "      <td>-1.122107</td>\n",
       "    </tr>\n",
       "  </tbody>\n",
       "</table>\n",
       "</div>"
      ],
      "text/plain": [
       "        red    orange    yellow     green      blue    violet\n",
       "1 -0.735527  1.879896  0.607163  0.783060  2.103607  4.207213\n",
       "2  0.777713  0.237508  0.615852 -0.615684  0.318391  0.636782\n",
       "4 -0.617870 -2.056778  0.129281  0.098779 -0.561053 -1.122107"
      ]
     },
     "execution_count": 29,
     "metadata": {},
     "output_type": "execute_result"
    }
   ],
   "source": [
    "my_df"
   ]
  },
  {
   "cell_type": "code",
   "execution_count": 30,
   "id": "b7a98f8e",
   "metadata": {},
   "outputs": [
    {
     "data": {
      "text/plain": [
       "(3, 6)"
      ]
     },
     "execution_count": 30,
     "metadata": {},
     "output_type": "execute_result"
    }
   ],
   "source": [
    "my_df.shape"
   ]
  },
  {
   "cell_type": "code",
   "execution_count": null,
   "id": "11cac46e",
   "metadata": {},
   "outputs": [],
   "source": []
  }
 ],
 "metadata": {
  "kernelspec": {
   "display_name": "Python 3 (ipykernel)",
   "language": "python",
   "name": "python3"
  },
  "language_info": {
   "codemirror_mode": {
    "name": "ipython",
    "version": 3
   },
   "file_extension": ".py",
   "mimetype": "text/x-python",
   "name": "python",
   "nbconvert_exporter": "python",
   "pygments_lexer": "ipython3",
   "version": "3.11.3"
  }
 },
 "nbformat": 4,
 "nbformat_minor": 5
}
