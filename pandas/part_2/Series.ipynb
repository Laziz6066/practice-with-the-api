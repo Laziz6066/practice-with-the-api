{
 "cells": [
  {
   "cell_type": "code",
   "execution_count": 1,
   "id": "8d6cb704",
   "metadata": {},
   "outputs": [],
   "source": [
    "import numpy as np\n",
    "import pandas as pd"
   ]
  },
  {
   "cell_type": "code",
   "execution_count": 2,
   "id": "203f6f7b",
   "metadata": {},
   "outputs": [],
   "source": [
    "letters = ['a', 'b', 'c']\n",
    "numbers = [1, 2, 3]\n",
    "np_arr = np.array(numbers)\n",
    "dict = {'a': 1, 'b': 2, 'c': 3}"
   ]
  },
  {
   "cell_type": "code",
   "execution_count": 7,
   "id": "a75c2956",
   "metadata": {},
   "outputs": [
    {
     "data": {
      "text/plain": [
       "0    1\n",
       "1    2\n",
       "2    3\n",
       "dtype: int64"
      ]
     },
     "execution_count": 7,
     "metadata": {},
     "output_type": "execute_result"
    }
   ],
   "source": [
    "pd.Series(data=numbers)"
   ]
  },
  {
   "cell_type": "code",
   "execution_count": 8,
   "id": "dca10871",
   "metadata": {},
   "outputs": [
    {
     "data": {
      "text/plain": [
       "a    1\n",
       "b    2\n",
       "c    3\n",
       "dtype: int64"
      ]
     },
     "execution_count": 8,
     "metadata": {},
     "output_type": "execute_result"
    }
   ],
   "source": [
    "pd.Series(data=numbers, index=letters)"
   ]
  },
  {
   "cell_type": "code",
   "execution_count": 9,
   "id": "2aa7fb47",
   "metadata": {
    "scrolled": true
   },
   "outputs": [
    {
     "data": {
      "text/plain": [
       "a    1\n",
       "b    2\n",
       "c    3\n",
       "dtype: int64"
      ]
     },
     "execution_count": 9,
     "metadata": {},
     "output_type": "execute_result"
    }
   ],
   "source": [
    "pd.Series(numbers, letters)"
   ]
  },
  {
   "cell_type": "code",
   "execution_count": 10,
   "id": "4d920a84",
   "metadata": {},
   "outputs": [
    {
     "data": {
      "text/plain": [
       "0    1\n",
       "1    2\n",
       "2    3\n",
       "dtype: int64"
      ]
     },
     "execution_count": 10,
     "metadata": {},
     "output_type": "execute_result"
    }
   ],
   "source": [
    "pd.Series(np_arr)"
   ]
  },
  {
   "cell_type": "code",
   "execution_count": 11,
   "id": "639140da",
   "metadata": {},
   "outputs": [
    {
     "data": {
      "text/plain": [
       "a    1\n",
       "b    2\n",
       "c    3\n",
       "dtype: int64"
      ]
     },
     "execution_count": 11,
     "metadata": {},
     "output_type": "execute_result"
    }
   ],
   "source": [
    "pd.Series(np_arr, letters)"
   ]
  },
  {
   "cell_type": "code",
   "execution_count": 12,
   "id": "7db4b26c",
   "metadata": {},
   "outputs": [
    {
     "data": {
      "text/plain": [
       "{'a': 1, 'b': 2, 'c': 3}"
      ]
     },
     "execution_count": 12,
     "metadata": {},
     "output_type": "execute_result"
    }
   ],
   "source": [
    "dict"
   ]
  },
  {
   "cell_type": "code",
   "execution_count": 13,
   "id": "ebded9e3",
   "metadata": {},
   "outputs": [
    {
     "data": {
      "text/plain": [
       "a    1\n",
       "b    2\n",
       "c    3\n",
       "dtype: int64"
      ]
     },
     "execution_count": 13,
     "metadata": {},
     "output_type": "execute_result"
    }
   ],
   "source": [
    "pd.Series(dict)"
   ]
  },
  {
   "cell_type": "code",
   "execution_count": 14,
   "id": "ce2f7e7c",
   "metadata": {},
   "outputs": [
    {
     "data": {
      "text/plain": [
       "1    a\n",
       "2    b\n",
       "3    c\n",
       "dtype: object"
      ]
     },
     "execution_count": 14,
     "metadata": {},
     "output_type": "execute_result"
    }
   ],
   "source": [
    "pd.Series(letters, numbers)"
   ]
  },
  {
   "cell_type": "code",
   "execution_count": 18,
   "id": "b59f412f",
   "metadata": {},
   "outputs": [],
   "source": [
    "life_long_averange = pd.Series([84.7, 84.5, 83.7], ['Hong Kong', 'Japan', 'Singapore'])"
   ]
  },
  {
   "cell_type": "code",
   "execution_count": 19,
   "id": "14b36194",
   "metadata": {},
   "outputs": [
    {
     "data": {
      "text/plain": [
       "Hong Kong    84.7\n",
       "Japan        84.5\n",
       "Singapore    83.7\n",
       "dtype: float64"
      ]
     },
     "execution_count": 19,
     "metadata": {},
     "output_type": "execute_result"
    }
   ],
   "source": [
    "life_long_averange"
   ]
  },
  {
   "cell_type": "code",
   "execution_count": 20,
   "id": "d83de917",
   "metadata": {},
   "outputs": [
    {
     "data": {
      "text/plain": [
       "84.7"
      ]
     },
     "execution_count": 20,
     "metadata": {},
     "output_type": "execute_result"
    }
   ],
   "source": [
    "life_long_averange['Hong Kong']"
   ]
  },
  {
   "cell_type": "code",
   "execution_count": 23,
   "id": "f967532e",
   "metadata": {},
   "outputs": [],
   "source": [
    "life_long_averange_1 = pd.Series([84.7, 84.5, 83.7], ['USA', 'Japan', 'Singapore'])"
   ]
  },
  {
   "cell_type": "code",
   "execution_count": 24,
   "id": "68b87557",
   "metadata": {},
   "outputs": [
    {
     "data": {
      "text/plain": [
       "Hong Kong      NaN\n",
       "Japan        169.0\n",
       "Singapore    167.4\n",
       "USA            NaN\n",
       "dtype: float64"
      ]
     },
     "execution_count": 24,
     "metadata": {},
     "output_type": "execute_result"
    }
   ],
   "source": [
    "life_long_averange + life_long_averange_1"
   ]
  },
  {
   "cell_type": "code",
   "execution_count": null,
   "id": "552ecf07",
   "metadata": {},
   "outputs": [],
   "source": []
  }
 ],
 "metadata": {
  "kernelspec": {
   "display_name": "Python 3 (ipykernel)",
   "language": "python",
   "name": "python3"
  },
  "language_info": {
   "codemirror_mode": {
    "name": "ipython",
    "version": 3
   },
   "file_extension": ".py",
   "mimetype": "text/x-python",
   "name": "python",
   "nbconvert_exporter": "python",
   "pygments_lexer": "ipython3",
   "version": "3.11.3"
  }
 },
 "nbformat": 4,
 "nbformat_minor": 5
}
