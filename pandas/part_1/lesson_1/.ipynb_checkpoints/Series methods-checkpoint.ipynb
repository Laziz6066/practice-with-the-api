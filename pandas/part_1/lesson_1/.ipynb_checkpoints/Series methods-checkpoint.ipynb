{
 "cells": [
  {
   "cell_type": "code",
   "execution_count": 66,
   "id": "747587f2",
   "metadata": {},
   "outputs": [],
   "source": [
    "import pandas as pd\n",
    "from random import randint, shuffle, choice\n",
    "from string import ascii_lowercase"
   ]
  },
  {
   "cell_type": "code",
   "execution_count": 2,
   "id": "b846d86a",
   "metadata": {},
   "outputs": [],
   "source": [
    "names = ['Kevin', 'Bob', 'Jack', 'Robin']\n",
    "numbers = [10, -20, 50, -30, 40]"
   ]
  },
  {
   "cell_type": "code",
   "execution_count": 3,
   "id": "abeaad0e",
   "metadata": {},
   "outputs": [],
   "source": [
    "s = pd.Series(names)"
   ]
  },
  {
   "cell_type": "code",
   "execution_count": 5,
   "id": "c89fde1b",
   "metadata": {},
   "outputs": [],
   "source": [
    "n = pd.Series(numbers)"
   ]
  },
  {
   "cell_type": "code",
   "execution_count": 6,
   "id": "73972039",
   "metadata": {},
   "outputs": [
    {
     "data": {
      "text/plain": [
       "50"
      ]
     },
     "execution_count": 6,
     "metadata": {},
     "output_type": "execute_result"
    }
   ],
   "source": [
    "nums.sum()"
   ]
  },
  {
   "cell_type": "code",
   "execution_count": 8,
   "id": "e4a089d6",
   "metadata": {},
   "outputs": [
    {
     "data": {
      "text/plain": [
       "12000000"
      ]
     },
     "execution_count": 8,
     "metadata": {},
     "output_type": "execute_result"
    }
   ],
   "source": [
    "nums.product()"
   ]
  },
  {
   "cell_type": "code",
   "execution_count": 9,
   "id": "8be054ea",
   "metadata": {},
   "outputs": [
    {
     "data": {
      "text/plain": [
       "10.0"
      ]
     },
     "execution_count": 9,
     "metadata": {},
     "output_type": "execute_result"
    }
   ],
   "source": [
    "nums.mean()"
   ]
  },
  {
   "cell_type": "code",
   "execution_count": 10,
   "id": "dcbaf0be",
   "metadata": {},
   "outputs": [
    {
     "data": {
      "text/plain": [
       "0    10\n",
       "1   -20\n",
       "2    50\n",
       "3   -30\n",
       "4    40\n",
       "dtype: int64"
      ]
     },
     "execution_count": 10,
     "metadata": {},
     "output_type": "execute_result"
    }
   ],
   "source": [
    "nums"
   ]
  },
  {
   "cell_type": "code",
   "execution_count": 11,
   "id": "e42818b1",
   "metadata": {},
   "outputs": [
    {
     "data": {
      "text/plain": [
       "'KevinBobJackRobin'"
      ]
     },
     "execution_count": 11,
     "metadata": {},
     "output_type": "execute_result"
    }
   ],
   "source": [
    "s.sum()"
   ]
  },
  {
   "cell_type": "code",
   "execution_count": 12,
   "id": "a2a2fb68",
   "metadata": {},
   "outputs": [
    {
     "data": {
      "text/plain": [
       "'Robin'"
      ]
     },
     "execution_count": 12,
     "metadata": {},
     "output_type": "execute_result"
    }
   ],
   "source": [
    "s.max()"
   ]
  },
  {
   "cell_type": "code",
   "execution_count": 13,
   "id": "1c820683",
   "metadata": {},
   "outputs": [
    {
     "data": {
      "text/plain": [
       "'Bob'"
      ]
     },
     "execution_count": 13,
     "metadata": {},
     "output_type": "execute_result"
    }
   ],
   "source": [
    "s.min()"
   ]
  },
  {
   "cell_type": "code",
   "execution_count": 15,
   "id": "3a324a64",
   "metadata": {},
   "outputs": [
    {
     "data": {
      "text/plain": [
       "RangeIndex(start=0, stop=4, step=1)"
      ]
     },
     "execution_count": 15,
     "metadata": {},
     "output_type": "execute_result"
    }
   ],
   "source": [
    "s.keys()"
   ]
  },
  {
   "cell_type": "code",
   "execution_count": 17,
   "id": "a05e0462",
   "metadata": {},
   "outputs": [
    {
     "data": {
      "text/plain": [
       "0    False\n",
       "1     True\n",
       "2    False\n",
       "3     True\n",
       "4    False\n",
       "dtype: bool"
      ]
     },
     "execution_count": 17,
     "metadata": {},
     "output_type": "execute_result"
    }
   ],
   "source": [
    "nums.lt(2)"
   ]
  },
  {
   "cell_type": "code",
   "execution_count": 18,
   "id": "b1bdec22",
   "metadata": {},
   "outputs": [
    {
     "data": {
      "text/plain": [
       "0     True\n",
       "1    False\n",
       "2     True\n",
       "3    False\n",
       "4     True\n",
       "dtype: bool"
      ]
     },
     "execution_count": 18,
     "metadata": {},
     "output_type": "execute_result"
    }
   ],
   "source": [
    "nums.gt(2)"
   ]
  },
  {
   "cell_type": "code",
   "execution_count": 19,
   "id": "511308cd",
   "metadata": {},
   "outputs": [
    {
     "data": {
      "text/plain": [
       "0     True\n",
       "1    False\n",
       "2    False\n",
       "3    False\n",
       "4    False\n",
       "dtype: bool"
      ]
     },
     "execution_count": 19,
     "metadata": {},
     "output_type": "execute_result"
    }
   ],
   "source": [
    "nums.eq(10)"
   ]
  },
  {
   "cell_type": "code",
   "execution_count": 21,
   "id": "d0ee7ead",
   "metadata": {},
   "outputs": [
    {
     "data": {
      "text/plain": [
       "0    False\n",
       "1     True\n",
       "2     True\n",
       "3     True\n",
       "4     True\n",
       "dtype: bool"
      ]
     },
     "execution_count": 21,
     "metadata": {},
     "output_type": "execute_result"
    }
   ],
   "source": [
    "nums.ne(10)"
   ]
  },
  {
   "cell_type": "code",
   "execution_count": 22,
   "id": "8b9f85a0",
   "metadata": {},
   "outputs": [
    {
     "data": {
      "text/plain": [
       "0    10\n",
       "1    20\n",
       "2    50\n",
       "3    30\n",
       "4    40\n",
       "dtype: int64"
      ]
     },
     "execution_count": 22,
     "metadata": {},
     "output_type": "execute_result"
    }
   ],
   "source": [
    "nums.abs()"
   ]
  },
  {
   "cell_type": "code",
   "execution_count": 24,
   "id": "299e0169",
   "metadata": {},
   "outputs": [],
   "source": [
    "numbers = [randint(-50, 50) for i in range(100)]"
   ]
  },
  {
   "cell_type": "code",
   "execution_count": 25,
   "id": "59ddff1c",
   "metadata": {},
   "outputs": [],
   "source": [
    "s = pd.Series(numbers)"
   ]
  },
  {
   "cell_type": "code",
   "execution_count": 28,
   "id": "e03d27e6",
   "metadata": {},
   "outputs": [
    {
     "data": {
      "text/plain": [
       "0     20\n",
       "1      1\n",
       "2      7\n",
       "3     33\n",
       "4    -42\n",
       "      ..\n",
       "95   -13\n",
       "96   -45\n",
       "97    45\n",
       "98   -27\n",
       "99   -29\n",
       "Length: 100, dtype: int64"
      ]
     },
     "execution_count": 28,
     "metadata": {},
     "output_type": "execute_result"
    }
   ],
   "source": [
    "s"
   ]
  },
  {
   "cell_type": "code",
   "execution_count": 29,
   "id": "d3af6ff4",
   "metadata": {},
   "outputs": [
    {
     "data": {
      "text/plain": [
       "0    20\n",
       "1     1\n",
       "2     7\n",
       "3    33\n",
       "4   -42\n",
       "5    17\n",
       "6     4\n",
       "7   -29\n",
       "8     8\n",
       "9    29\n",
       "dtype: int64"
      ]
     },
     "execution_count": 29,
     "metadata": {},
     "output_type": "execute_result"
    }
   ],
   "source": [
    "s.head(10)"
   ]
  },
  {
   "cell_type": "code",
   "execution_count": 31,
   "id": "2c3866d4",
   "metadata": {},
   "outputs": [
    {
     "data": {
      "text/plain": [
       "90   -37\n",
       "91   -22\n",
       "92   -41\n",
       "93   -17\n",
       "94    11\n",
       "95   -13\n",
       "96   -45\n",
       "97    45\n",
       "98   -27\n",
       "99   -29\n",
       "dtype: int64"
      ]
     },
     "execution_count": 31,
     "metadata": {},
     "output_type": "execute_result"
    }
   ],
   "source": [
    "s.tail(10)"
   ]
  },
  {
   "cell_type": "code",
   "execution_count": 34,
   "id": "d9179ebc",
   "metadata": {},
   "outputs": [
    {
     "data": {
      "text/plain": [
       "4    -42\n",
       "9     29\n",
       "15    -3\n",
       "10    16\n",
       "dtype: int64"
      ]
     },
     "execution_count": 34,
     "metadata": {},
     "output_type": "execute_result"
    }
   ],
   "source": [
    "s.take([4, 9, 15, 10])"
   ]
  },
  {
   "cell_type": "code",
   "execution_count": 38,
   "id": "b6e44681",
   "metadata": {},
   "outputs": [
    {
     "data": {
      "text/plain": [
       "23    47\n",
       "25    49\n",
       "27     1\n",
       "29   -33\n",
       "31    22\n",
       "33    -1\n",
       "35     6\n",
       "dtype: int64"
      ]
     },
     "execution_count": 38,
     "metadata": {},
     "output_type": "execute_result"
    }
   ],
   "source": [
    "s.take(range(23, 36, 2))"
   ]
  },
  {
   "cell_type": "code",
   "execution_count": 39,
   "id": "44bb2227",
   "metadata": {},
   "outputs": [],
   "source": [
    "nums = [randint(-50, 50) for i in range(26)]"
   ]
  },
  {
   "cell_type": "code",
   "execution_count": 40,
   "id": "b3c6f0a4",
   "metadata": {},
   "outputs": [],
   "source": [
    "s = pd.Series(nums)"
   ]
  },
  {
   "cell_type": "code",
   "execution_count": 41,
   "id": "a1cd2bfb",
   "metadata": {},
   "outputs": [
    {
     "data": {
      "text/plain": [
       "11"
      ]
     },
     "execution_count": 41,
     "metadata": {},
     "output_type": "execute_result"
    }
   ],
   "source": [
    "s[2]"
   ]
  },
  {
   "cell_type": "code",
   "execution_count": 42,
   "id": "b7eb3e51",
   "metadata": {},
   "outputs": [
    {
     "data": {
      "text/plain": [
       "-13"
      ]
     },
     "execution_count": 42,
     "metadata": {},
     "output_type": "execute_result"
    }
   ],
   "source": [
    "s[23]"
   ]
  },
  {
   "cell_type": "code",
   "execution_count": 43,
   "id": "47073f5f",
   "metadata": {},
   "outputs": [
    {
     "data": {
      "text/plain": [
       "44"
      ]
     },
     "execution_count": 43,
     "metadata": {},
     "output_type": "execute_result"
    }
   ],
   "source": [
    "s[15]"
   ]
  },
  {
   "cell_type": "code",
   "execution_count": 44,
   "id": "99f13406",
   "metadata": {},
   "outputs": [
    {
     "data": {
      "text/plain": [
       "10    37\n",
       "11   -12\n",
       "12   -24\n",
       "13    23\n",
       "14    25\n",
       "dtype: int64"
      ]
     },
     "execution_count": 44,
     "metadata": {},
     "output_type": "execute_result"
    }
   ],
   "source": [
    "s[10: 15]"
   ]
  },
  {
   "cell_type": "code",
   "execution_count": 45,
   "id": "f02fae50",
   "metadata": {},
   "outputs": [
    {
     "data": {
      "text/plain": [
       "0     9\n",
       "1   -18\n",
       "2    11\n",
       "3    -3\n",
       "4     3\n",
       "5   -20\n",
       "6    39\n",
       "7    19\n",
       "8    28\n",
       "9    25\n",
       "dtype: int64"
      ]
     },
     "execution_count": 45,
     "metadata": {},
     "output_type": "execute_result"
    }
   ],
   "source": [
    "s[:10]"
   ]
  },
  {
   "cell_type": "code",
   "execution_count": 46,
   "id": "15f21d9b",
   "metadata": {},
   "outputs": [
    {
     "data": {
      "text/plain": [
       "23   -13\n",
       "24     3\n",
       "25    23\n",
       "dtype: int64"
      ]
     },
     "execution_count": 46,
     "metadata": {},
     "output_type": "execute_result"
    }
   ],
   "source": [
    "s[23:]"
   ]
  },
  {
   "cell_type": "code",
   "execution_count": 47,
   "id": "1787e27d",
   "metadata": {},
   "outputs": [
    {
     "data": {
      "text/plain": [
       "10    37\n",
       "9     25\n",
       "8     28\n",
       "7     19\n",
       "6     39\n",
       "5    -20\n",
       "dtype: int64"
      ]
     },
     "execution_count": 47,
     "metadata": {},
     "output_type": "execute_result"
    }
   ],
   "source": [
    "s[10:4:-1]"
   ]
  },
  {
   "cell_type": "code",
   "execution_count": 48,
   "id": "9086afbc",
   "metadata": {},
   "outputs": [
    {
     "data": {
      "text/plain": [
       "25    23\n",
       "24     3\n",
       "23   -13\n",
       "22   -38\n",
       "21    32\n",
       "20   -14\n",
       "19   -42\n",
       "18   -27\n",
       "17     5\n",
       "16   -48\n",
       "15    44\n",
       "14    25\n",
       "13    23\n",
       "12   -24\n",
       "11   -12\n",
       "10    37\n",
       "9     25\n",
       "8     28\n",
       "7     19\n",
       "6     39\n",
       "5    -20\n",
       "4      3\n",
       "3     -3\n",
       "2     11\n",
       "1    -18\n",
       "0      9\n",
       "dtype: int64"
      ]
     },
     "execution_count": 48,
     "metadata": {},
     "output_type": "execute_result"
    }
   ],
   "source": [
    "s[::-1]"
   ]
  },
  {
   "cell_type": "code",
   "execution_count": 49,
   "id": "98f79ecb",
   "metadata": {},
   "outputs": [
    {
     "data": {
      "text/plain": [
       "0      9\n",
       "1    -18\n",
       "2     11\n",
       "3     -3\n",
       "4      3\n",
       "5    -20\n",
       "6     39\n",
       "7     19\n",
       "8     28\n",
       "9     25\n",
       "10    37\n",
       "11   -12\n",
       "12   -24\n",
       "13    23\n",
       "14    25\n",
       "15    44\n",
       "16   -48\n",
       "17     5\n",
       "18   -27\n",
       "19   -42\n",
       "20   -14\n",
       "21    32\n",
       "22   -38\n",
       "23   -13\n",
       "24     3\n",
       "dtype: int64"
      ]
     },
     "execution_count": 49,
     "metadata": {},
     "output_type": "execute_result"
    }
   ],
   "source": [
    "s[:-1]"
   ]
  },
  {
   "cell_type": "code",
   "execution_count": 52,
   "id": "2b479865",
   "metadata": {},
   "outputs": [
    {
     "data": {
      "text/plain": [
       "'abcdefghijklmnopqrstuvwxyz'"
      ]
     },
     "execution_count": 52,
     "metadata": {},
     "output_type": "execute_result"
    }
   ],
   "source": [
    "ascii_lowercase"
   ]
  },
  {
   "cell_type": "code",
   "execution_count": 53,
   "id": "01571943",
   "metadata": {},
   "outputs": [],
   "source": [
    "ind = list(ascii_lowercase)"
   ]
  },
  {
   "cell_type": "code",
   "execution_count": 54,
   "id": "c7c5dfe9",
   "metadata": {},
   "outputs": [
    {
     "data": {
      "text/plain": [
       "['a',\n",
       " 'b',\n",
       " 'c',\n",
       " 'd',\n",
       " 'e',\n",
       " 'f',\n",
       " 'g',\n",
       " 'h',\n",
       " 'i',\n",
       " 'j',\n",
       " 'k',\n",
       " 'l',\n",
       " 'm',\n",
       " 'n',\n",
       " 'o',\n",
       " 'p',\n",
       " 'q',\n",
       " 'r',\n",
       " 's',\n",
       " 't',\n",
       " 'u',\n",
       " 'v',\n",
       " 'w',\n",
       " 'x',\n",
       " 'y',\n",
       " 'z']"
      ]
     },
     "execution_count": 54,
     "metadata": {},
     "output_type": "execute_result"
    }
   ],
   "source": [
    "ind"
   ]
  },
  {
   "cell_type": "code",
   "execution_count": 62,
   "id": "ee0665e6",
   "metadata": {},
   "outputs": [],
   "source": [
    "letters = pd.Series(nums, index=ind)"
   ]
  },
  {
   "cell_type": "code",
   "execution_count": 63,
   "id": "ab651260",
   "metadata": {},
   "outputs": [
    {
     "data": {
      "text/plain": [
       "k     9\n",
       "v   -18\n",
       "w    11\n",
       "q    -3\n",
       "s     3\n",
       "u   -20\n",
       "z    39\n",
       "y    19\n",
       "g    28\n",
       "h    25\n",
       "c    37\n",
       "i   -12\n",
       "j   -24\n",
       "m    23\n",
       "o    25\n",
       "a    44\n",
       "t   -48\n",
       "x     5\n",
       "n   -27\n",
       "d   -42\n",
       "p   -14\n",
       "f    32\n",
       "l   -38\n",
       "e   -13\n",
       "r     3\n",
       "b    23\n",
       "dtype: int64"
      ]
     },
     "execution_count": 63,
     "metadata": {},
     "output_type": "execute_result"
    }
   ],
   "source": [
    "letters"
   ]
  },
  {
   "cell_type": "code",
   "execution_count": 57,
   "id": "c8d4ab35",
   "metadata": {},
   "outputs": [
    {
     "data": {
      "text/plain": [
       "9"
      ]
     },
     "execution_count": 57,
     "metadata": {},
     "output_type": "execute_result"
    }
   ],
   "source": [
    "letters[0]"
   ]
  },
  {
   "cell_type": "code",
   "execution_count": 58,
   "id": "27c20997",
   "metadata": {},
   "outputs": [
    {
     "data": {
      "text/plain": [
       "9"
      ]
     },
     "execution_count": 58,
     "metadata": {},
     "output_type": "execute_result"
    }
   ],
   "source": [
    "letters['a']"
   ]
  },
  {
   "cell_type": "code",
   "execution_count": 60,
   "id": "0bee111e",
   "metadata": {},
   "outputs": [],
   "source": [
    "shuffle(ind)"
   ]
  },
  {
   "cell_type": "code",
   "execution_count": 61,
   "id": "ffe80896",
   "metadata": {},
   "outputs": [
    {
     "data": {
      "text/plain": [
       "['k',\n",
       " 'v',\n",
       " 'w',\n",
       " 'q',\n",
       " 's',\n",
       " 'u',\n",
       " 'z',\n",
       " 'y',\n",
       " 'g',\n",
       " 'h',\n",
       " 'c',\n",
       " 'i',\n",
       " 'j',\n",
       " 'm',\n",
       " 'o',\n",
       " 'a',\n",
       " 't',\n",
       " 'x',\n",
       " 'n',\n",
       " 'd',\n",
       " 'p',\n",
       " 'f',\n",
       " 'l',\n",
       " 'e',\n",
       " 'r',\n",
       " 'b']"
      ]
     },
     "execution_count": 61,
     "metadata": {},
     "output_type": "execute_result"
    }
   ],
   "source": [
    "ind"
   ]
  },
  {
   "cell_type": "code",
   "execution_count": 64,
   "id": "af5faf59",
   "metadata": {},
   "outputs": [
    {
     "data": {
      "text/plain": [
       "k     9\n",
       "v   -18\n",
       "w    11\n",
       "q    -3\n",
       "s     3\n",
       "u   -20\n",
       "z    39\n",
       "y    19\n",
       "g    28\n",
       "h    25\n",
       "c    37\n",
       "i   -12\n",
       "j   -24\n",
       "m    23\n",
       "o    25\n",
       "a    44\n",
       "t   -48\n",
       "x     5\n",
       "n   -27\n",
       "d   -42\n",
       "p   -14\n",
       "f    32\n",
       "l   -38\n",
       "e   -13\n",
       "r     3\n",
       "b    23\n",
       "dtype: int64"
      ]
     },
     "execution_count": 64,
     "metadata": {},
     "output_type": "execute_result"
    }
   ],
   "source": [
    "letters"
   ]
  },
  {
   "cell_type": "code",
   "execution_count": 65,
   "id": "f96fd7f1",
   "metadata": {},
   "outputs": [
    {
     "data": {
      "text/plain": [
       "a    44\n",
       "t   -48\n",
       "x     5\n",
       "n   -27\n",
       "d   -42\n",
       "p   -14\n",
       "f    32\n",
       "l   -38\n",
       "e   -13\n",
       "r     3\n",
       "b    23\n",
       "dtype: int64"
      ]
     },
     "execution_count": 65,
     "metadata": {},
     "output_type": "execute_result"
    }
   ],
   "source": [
    "letters['a': 'b']"
   ]
  },
  {
   "cell_type": "code",
   "execution_count": 67,
   "id": "ae83e1a5",
   "metadata": {},
   "outputs": [],
   "source": [
    "nums = [randint(-50, 50) for i in range(10)]\n",
    "indexes = [choice([0,1,2,3]) for i in range(10)]"
   ]
  },
  {
   "cell_type": "code",
   "execution_count": 72,
   "id": "3f6e797e",
   "metadata": {},
   "outputs": [],
   "source": [
    "s = pd.Series(nums, index=indexes)"
   ]
  },
  {
   "cell_type": "code",
   "execution_count": 69,
   "id": "c81906ba",
   "metadata": {},
   "outputs": [
    {
     "data": {
      "text/plain": [
       "[38, 19, 34, 42, 33, 16, -19, -14, -40, -42]"
      ]
     },
     "execution_count": 69,
     "metadata": {},
     "output_type": "execute_result"
    }
   ],
   "source": [
    "nums"
   ]
  },
  {
   "cell_type": "code",
   "execution_count": 70,
   "id": "62efabf0",
   "metadata": {},
   "outputs": [
    {
     "data": {
      "text/plain": [
       "[3, 0, 3, 2, 1, 3, 0, 2, 1, 0]"
      ]
     },
     "execution_count": 70,
     "metadata": {},
     "output_type": "execute_result"
    }
   ],
   "source": [
    "indexes"
   ]
  },
  {
   "cell_type": "code",
   "execution_count": 71,
   "id": "c58389e6",
   "metadata": {},
   "outputs": [
    {
     "data": {
      "text/plain": [
       "0    38\n",
       "1    19\n",
       "2    34\n",
       "3    42\n",
       "4    33\n",
       "5    16\n",
       "6   -19\n",
       "7   -14\n",
       "8   -40\n",
       "9   -42\n",
       "dtype: int64"
      ]
     },
     "execution_count": 71,
     "metadata": {},
     "output_type": "execute_result"
    }
   ],
   "source": [
    "s"
   ]
  },
  {
   "cell_type": "code",
   "execution_count": 73,
   "id": "4a5f8e68",
   "metadata": {},
   "outputs": [
    {
     "data": {
      "text/plain": [
       "3    38\n",
       "0    19\n",
       "3    34\n",
       "2    42\n",
       "1    33\n",
       "3    16\n",
       "0   -19\n",
       "2   -14\n",
       "1   -40\n",
       "0   -42\n",
       "dtype: int64"
      ]
     },
     "execution_count": 73,
     "metadata": {},
     "output_type": "execute_result"
    }
   ],
   "source": [
    "s"
   ]
  },
  {
   "cell_type": "code",
   "execution_count": 74,
   "id": "7c4dcb6f",
   "metadata": {},
   "outputs": [
    {
     "data": {
      "text/plain": [
       "2    42\n",
       "2   -14\n",
       "dtype: int64"
      ]
     },
     "execution_count": 74,
     "metadata": {},
     "output_type": "execute_result"
    }
   ],
   "source": [
    "s[2]"
   ]
  },
  {
   "cell_type": "code",
   "execution_count": 77,
   "id": "5e2d5e2a",
   "metadata": {},
   "outputs": [
    {
     "data": {
      "text/plain": [
       "19"
      ]
     },
     "execution_count": 77,
     "metadata": {},
     "output_type": "execute_result"
    }
   ],
   "source": [
    "s.iloc[1]"
   ]
  },
  {
   "cell_type": "code",
   "execution_count": null,
   "id": "bfd0a2fb",
   "metadata": {},
   "outputs": [],
   "source": []
  }
 ],
 "metadata": {
  "kernelspec": {
   "display_name": "Python 3 (ipykernel)",
   "language": "python",
   "name": "python3"
  },
  "language_info": {
   "codemirror_mode": {
    "name": "ipython",
    "version": 3
   },
   "file_extension": ".py",
   "mimetype": "text/x-python",
   "name": "python",
   "nbconvert_exporter": "python",
   "pygments_lexer": "ipython3",
   "version": "3.11.3"
  }
 },
 "nbformat": 4,
 "nbformat_minor": 5
}
