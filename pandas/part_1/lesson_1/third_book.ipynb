{
 "cells": [
  {
   "cell_type": "code",
   "execution_count": 1,
   "id": "58aa867a",
   "metadata": {},
   "outputs": [],
   "source": [
    "import pandas as pd"
   ]
  },
  {
   "cell_type": "code",
   "execution_count": 2,
   "id": "c07a590e",
   "metadata": {},
   "outputs": [],
   "source": [
    "a = [5, 34, 4234, 23, 23, 4, 7, 78, 437, 90]"
   ]
  },
  {
   "cell_type": "code",
   "execution_count": 4,
   "id": "33856322",
   "metadata": {},
   "outputs": [],
   "source": [
    "data = pd.Series(a)"
   ]
  },
  {
   "cell_type": "code",
   "execution_count": 5,
   "id": "076ff2cd",
   "metadata": {},
   "outputs": [
    {
     "data": {
      "text/plain": [
       "0       5\n",
       "1      34\n",
       "2    4234\n",
       "3      23\n",
       "4      23\n",
       "5       4\n",
       "6       7\n",
       "7      78\n",
       "8     437\n",
       "9      90\n",
       "dtype: int64"
      ]
     },
     "execution_count": 5,
     "metadata": {},
     "output_type": "execute_result"
    }
   ],
   "source": [
    "data"
   ]
  },
  {
   "cell_type": "code",
   "execution_count": 6,
   "id": "52c0438c",
   "metadata": {},
   "outputs": [
    {
     "data": {
      "text/plain": [
       "0       7\n",
       "1      36\n",
       "2    4236\n",
       "3      25\n",
       "4      25\n",
       "5       6\n",
       "6       9\n",
       "7      80\n",
       "8     439\n",
       "9      92\n",
       "dtype: int64"
      ]
     },
     "execution_count": 6,
     "metadata": {},
     "output_type": "execute_result"
    }
   ],
   "source": [
    "data + 2"
   ]
  },
  {
   "cell_type": "code",
   "execution_count": 7,
   "id": "e2226497",
   "metadata": {},
   "outputs": [
    {
     "data": {
      "text/plain": [
       "0       5\n",
       "1      34\n",
       "2    4234\n",
       "3      23\n",
       "4      23\n",
       "5       4\n",
       "6       7\n",
       "7      78\n",
       "8     437\n",
       "9      90\n",
       "dtype: int64"
      ]
     },
     "execution_count": 7,
     "metadata": {},
     "output_type": "execute_result"
    }
   ],
   "source": [
    "data"
   ]
  },
  {
   "cell_type": "code",
   "execution_count": 8,
   "id": "b6654dc2",
   "metadata": {},
   "outputs": [],
   "source": [
    "data += 2"
   ]
  },
  {
   "cell_type": "code",
   "execution_count": 10,
   "id": "00e76ffa",
   "metadata": {},
   "outputs": [],
   "source": [
    "data *= 2"
   ]
  },
  {
   "cell_type": "code",
   "execution_count": 11,
   "id": "84d29606",
   "metadata": {},
   "outputs": [
    {
     "data": {
      "text/plain": [
       "0      14\n",
       "1      72\n",
       "2    8472\n",
       "3      50\n",
       "4      50\n",
       "5      12\n",
       "6      18\n",
       "7     160\n",
       "8     878\n",
       "9     184\n",
       "dtype: int64"
      ]
     },
     "execution_count": 11,
     "metadata": {},
     "output_type": "execute_result"
    }
   ],
   "source": [
    "data"
   ]
  },
  {
   "cell_type": "code",
   "execution_count": 12,
   "id": "2b3ccee4",
   "metadata": {},
   "outputs": [],
   "source": [
    "data /= 2"
   ]
  },
  {
   "cell_type": "code",
   "execution_count": 13,
   "id": "03f50cf6",
   "metadata": {},
   "outputs": [
    {
     "data": {
      "text/plain": [
       "0       7.0\n",
       "1      36.0\n",
       "2    4236.0\n",
       "3      25.0\n",
       "4      25.0\n",
       "5       6.0\n",
       "6       9.0\n",
       "7      80.0\n",
       "8     439.0\n",
       "9      92.0\n",
       "dtype: float64"
      ]
     },
     "execution_count": 13,
     "metadata": {},
     "output_type": "execute_result"
    }
   ],
   "source": [
    "data"
   ]
  },
  {
   "cell_type": "code",
   "execution_count": 14,
   "id": "307eb90f",
   "metadata": {},
   "outputs": [],
   "source": [
    "data **= 2"
   ]
  },
  {
   "cell_type": "code",
   "execution_count": 15,
   "id": "0c33cda8",
   "metadata": {},
   "outputs": [
    {
     "data": {
      "text/plain": [
       "0          49.0\n",
       "1        1296.0\n",
       "2    17943696.0\n",
       "3         625.0\n",
       "4         625.0\n",
       "5          36.0\n",
       "6          81.0\n",
       "7        6400.0\n",
       "8      192721.0\n",
       "9        8464.0\n",
       "dtype: float64"
      ]
     },
     "execution_count": 15,
     "metadata": {},
     "output_type": "execute_result"
    }
   ],
   "source": [
    "data"
   ]
  },
  {
   "cell_type": "code",
   "execution_count": 24,
   "id": "d0b2cae7",
   "metadata": {},
   "outputs": [],
   "source": [
    "data //= 2"
   ]
  },
  {
   "cell_type": "code",
   "execution_count": 25,
   "id": "93022d54",
   "metadata": {},
   "outputs": [
    {
     "data": {
      "text/plain": [
       "0         0.0\n",
       "1        10.0\n",
       "2    140185.0\n",
       "3         4.0\n",
       "4         4.0\n",
       "5         0.0\n",
       "6         0.0\n",
       "7        50.0\n",
       "8      1505.0\n",
       "9        66.0\n",
       "dtype: float64"
      ]
     },
     "execution_count": 25,
     "metadata": {},
     "output_type": "execute_result"
    }
   ],
   "source": [
    "data"
   ]
  },
  {
   "cell_type": "code",
   "execution_count": 26,
   "id": "783d8d37",
   "metadata": {},
   "outputs": [],
   "source": [
    "data %= 4"
   ]
  },
  {
   "cell_type": "code",
   "execution_count": 27,
   "id": "383b9525",
   "metadata": {},
   "outputs": [
    {
     "data": {
      "text/plain": [
       "0    0.0\n",
       "1    2.0\n",
       "2    1.0\n",
       "3    0.0\n",
       "4    0.0\n",
       "5    0.0\n",
       "6    0.0\n",
       "7    2.0\n",
       "8    1.0\n",
       "9    2.0\n",
       "dtype: float64"
      ]
     },
     "execution_count": 27,
     "metadata": {},
     "output_type": "execute_result"
    }
   ],
   "source": [
    "data"
   ]
  },
  {
   "cell_type": "code",
   "execution_count": 28,
   "id": "7ff79229",
   "metadata": {},
   "outputs": [
    {
     "data": {
      "text/plain": [
       "0    False\n",
       "1    False\n",
       "2    False\n",
       "3    False\n",
       "4    False\n",
       "5    False\n",
       "6    False\n",
       "7    False\n",
       "8    False\n",
       "9    False\n",
       "dtype: bool"
      ]
     },
     "execution_count": 28,
     "metadata": {},
     "output_type": "execute_result"
    }
   ],
   "source": [
    "data > 45"
   ]
  },
  {
   "cell_type": "code",
   "execution_count": 29,
   "id": "11a3d8c6",
   "metadata": {},
   "outputs": [],
   "source": [
    "data = pd.Series(a)"
   ]
  },
  {
   "cell_type": "code",
   "execution_count": 30,
   "id": "35b66756",
   "metadata": {},
   "outputs": [
    {
     "data": {
      "text/plain": [
       "0    False\n",
       "1    False\n",
       "2     True\n",
       "3    False\n",
       "4    False\n",
       "5    False\n",
       "6    False\n",
       "7     True\n",
       "8     True\n",
       "9     True\n",
       "dtype: bool"
      ]
     },
     "execution_count": 30,
     "metadata": {},
     "output_type": "execute_result"
    }
   ],
   "source": [
    "data > 45"
   ]
  },
  {
   "cell_type": "code",
   "execution_count": 31,
   "id": "cfea1bec",
   "metadata": {},
   "outputs": [],
   "source": [
    "b = ['h1', 'h2', 'h3']"
   ]
  },
  {
   "cell_type": "code",
   "execution_count": 32,
   "id": "6a58c49b",
   "metadata": {},
   "outputs": [],
   "source": [
    "c = pd.Series(b)"
   ]
  },
  {
   "cell_type": "code",
   "execution_count": 34,
   "id": "e5eb7326",
   "metadata": {},
   "outputs": [
    {
     "data": {
      "text/plain": [
       "0    h12\n",
       "1    h22\n",
       "2    h32\n",
       "dtype: object"
      ]
     },
     "execution_count": 34,
     "metadata": {},
     "output_type": "execute_result"
    }
   ],
   "source": [
    "c + '2'"
   ]
  },
  {
   "cell_type": "code",
   "execution_count": 35,
   "id": "c5091bef",
   "metadata": {},
   "outputs": [
    {
     "data": {
      "text/plain": [
       "0    h1h1\n",
       "1    h2h2\n",
       "2    h3h3\n",
       "dtype: object"
      ]
     },
     "execution_count": 35,
     "metadata": {},
     "output_type": "execute_result"
    }
   ],
   "source": [
    "c * 2"
   ]
  },
  {
   "cell_type": "code",
   "execution_count": 36,
   "id": "94e9750d",
   "metadata": {},
   "outputs": [
    {
     "data": {
      "text/plain": [
       "0    True\n",
       "1    True\n",
       "2    True\n",
       "dtype: bool"
      ]
     },
     "execution_count": 36,
     "metadata": {},
     "output_type": "execute_result"
    }
   ],
   "source": [
    "c > 'a'"
   ]
  },
  {
   "cell_type": "code",
   "execution_count": 37,
   "id": "34841f1b",
   "metadata": {},
   "outputs": [
    {
     "data": {
      "text/plain": [
       "0    False\n",
       "1    False\n",
       "2    False\n",
       "dtype: bool"
      ]
     },
     "execution_count": 37,
     "metadata": {},
     "output_type": "execute_result"
    }
   ],
   "source": [
    "c < 'a'"
   ]
  },
  {
   "cell_type": "code",
   "execution_count": null,
   "id": "d8641f66",
   "metadata": {},
   "outputs": [],
   "source": []
  }
 ],
 "metadata": {
  "kernelspec": {
   "display_name": "Python 3 (ipykernel)",
   "language": "python",
   "name": "python3"
  },
  "language_info": {
   "codemirror_mode": {
    "name": "ipython",
    "version": 3
   },
   "file_extension": ".py",
   "mimetype": "text/x-python",
   "name": "python",
   "nbconvert_exporter": "python",
   "pygments_lexer": "ipython3",
   "version": "3.11.3"
  }
 },
 "nbformat": 4,
 "nbformat_minor": 5
}
