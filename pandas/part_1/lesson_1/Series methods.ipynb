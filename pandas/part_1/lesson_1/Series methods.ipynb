{
 "cells": [
  {
   "cell_type": "code",
   "execution_count": 66,
   "id": "ce2760c5",
   "metadata": {},
   "outputs": [],
   "source": [
    "import pandas as pd\n",
    "from random import randint, shuffle, choice\n",
    "from string import ascii_lowercase"
   ]
  },
  {
   "cell_type": "code",
   "execution_count": 2,
   "id": "dd97c1b8",
   "metadata": {},
   "outputs": [],
   "source": [
    "names = ['Kevin', 'Bob', 'Jack', 'Robin']\n",
    "numbers = [10, -20, 50, -30, 40]"
   ]
  },
  {
   "cell_type": "code",
   "execution_count": 3,
   "id": "f875d7af",
   "metadata": {},
   "outputs": [],
   "source": [
    "s = pd.Series(names)"
   ]
  },
  {
   "cell_type": "code",
   "execution_count": 5,
   "id": "7877901e",
   "metadata": {},
   "outputs": [],
   "source": [
    "n = pd.Series(numbers)"
   ]
  },
  {
   "cell_type": "code",
   "execution_count": 6,
   "id": "cdebcbf5",
   "metadata": {},
   "outputs": [
    {
     "data": {
      "text/plain": [
       "50"
      ]
     },
     "execution_count": 6,
     "metadata": {},
     "output_type": "execute_result"
    }
   ],
   "source": [
    "nums.sum()"
   ]
  },
  {
   "cell_type": "code",
   "execution_count": 8,
   "id": "01f78851",
   "metadata": {},
   "outputs": [
    {
     "data": {
      "text/plain": [
       "12000000"
      ]
     },
     "execution_count": 8,
     "metadata": {},
     "output_type": "execute_result"
    }
   ],
   "source": [
    "nums.product()"
   ]
  },
  {
   "cell_type": "code",
   "execution_count": 9,
   "id": "7ddcc60d",
   "metadata": {},
   "outputs": [
    {
     "data": {
      "text/plain": [
       "10.0"
      ]
     },
     "execution_count": 9,
     "metadata": {},
     "output_type": "execute_result"
    }
   ],
   "source": [
    "nums.mean()"
   ]
  },
  {
   "cell_type": "code",
   "execution_count": 10,
   "id": "233108b0",
   "metadata": {},
   "outputs": [
    {
     "data": {
      "text/plain": [
       "0    10\n",
       "1   -20\n",
       "2    50\n",
       "3   -30\n",
       "4    40\n",
       "dtype: int64"
      ]
     },
     "execution_count": 10,
     "metadata": {},
     "output_type": "execute_result"
    }
   ],
   "source": [
    "nums"
   ]
  },
  {
   "cell_type": "code",
   "execution_count": 11,
   "id": "0292bc9c",
   "metadata": {},
   "outputs": [
    {
     "data": {
      "text/plain": [
       "'KevinBobJackRobin'"
      ]
     },
     "execution_count": 11,
     "metadata": {},
     "output_type": "execute_result"
    }
   ],
   "source": [
    "s.sum()"
   ]
  },
  {
   "cell_type": "code",
   "execution_count": 12,
   "id": "6b5f39e8",
   "metadata": {},
   "outputs": [
    {
     "data": {
      "text/plain": [
       "'Robin'"
      ]
     },
     "execution_count": 12,
     "metadata": {},
     "output_type": "execute_result"
    }
   ],
   "source": [
    "s.max()"
   ]
  },
  {
   "cell_type": "code",
   "execution_count": 13,
   "id": "d3f63240",
   "metadata": {},
   "outputs": [
    {
     "data": {
      "text/plain": [
       "'Bob'"
      ]
     },
     "execution_count": 13,
     "metadata": {},
     "output_type": "execute_result"
    }
   ],
   "source": [
    "s.min()"
   ]
  },
  {
   "cell_type": "code",
   "execution_count": 15,
   "id": "ca329437",
   "metadata": {},
   "outputs": [
    {
     "data": {
      "text/plain": [
       "RangeIndex(start=0, stop=4, step=1)"
      ]
     },
     "execution_count": 15,
     "metadata": {},
     "output_type": "execute_result"
    }
   ],
   "source": [
    "s.keys()"
   ]
  },
  {
   "cell_type": "code",
   "execution_count": 17,
   "id": "e2605424",
   "metadata": {},
   "outputs": [
    {
     "data": {
      "text/plain": [
       "0    False\n",
       "1     True\n",
       "2    False\n",
       "3     True\n",
       "4    False\n",
       "dtype: bool"
      ]
     },
     "execution_count": 17,
     "metadata": {},
     "output_type": "execute_result"
    }
   ],
   "source": [
    "nums.lt(2)"
   ]
  },
  {
   "cell_type": "code",
   "execution_count": 18,
   "id": "1cff90ae",
   "metadata": {},
   "outputs": [
    {
     "data": {
      "text/plain": [
       "0     True\n",
       "1    False\n",
       "2     True\n",
       "3    False\n",
       "4     True\n",
       "dtype: bool"
      ]
     },
     "execution_count": 18,
     "metadata": {},
     "output_type": "execute_result"
    }
   ],
   "source": [
    "nums.gt(2)"
   ]
  },
  {
   "cell_type": "code",
   "execution_count": 19,
   "id": "9e25a5dd",
   "metadata": {},
   "outputs": [
    {
     "data": {
      "text/plain": [
       "0     True\n",
       "1    False\n",
       "2    False\n",
       "3    False\n",
       "4    False\n",
       "dtype: bool"
      ]
     },
     "execution_count": 19,
     "metadata": {},
     "output_type": "execute_result"
    }
   ],
   "source": [
    "nums.eq(10)"
   ]
  },
  {
   "cell_type": "code",
   "execution_count": 21,
   "id": "92150402",
   "metadata": {},
   "outputs": [
    {
     "data": {
      "text/plain": [
       "0    False\n",
       "1     True\n",
       "2     True\n",
       "3     True\n",
       "4     True\n",
       "dtype: bool"
      ]
     },
     "execution_count": 21,
     "metadata": {},
     "output_type": "execute_result"
    }
   ],
   "source": [
    "nums.ne(10)"
   ]
  },
  {
   "cell_type": "code",
   "execution_count": 22,
   "id": "c632f7cd",
   "metadata": {},
   "outputs": [
    {
     "data": {
      "text/plain": [
       "0    10\n",
       "1    20\n",
       "2    50\n",
       "3    30\n",
       "4    40\n",
       "dtype: int64"
      ]
     },
     "execution_count": 22,
     "metadata": {},
     "output_type": "execute_result"
    }
   ],
   "source": [
    "nums.abs()"
   ]
  },
  {
   "cell_type": "code",
   "execution_count": 24,
   "id": "300294c3",
   "metadata": {},
   "outputs": [],
   "source": [
    "numbers = [randint(-50, 50) for i in range(100)]"
   ]
  },
  {
   "cell_type": "code",
   "execution_count": 25,
   "id": "69f27ce5",
   "metadata": {},
   "outputs": [],
   "source": [
    "s = pd.Series(numbers)"
   ]
  },
  {
   "cell_type": "code",
   "execution_count": 28,
   "id": "5c4aca80",
   "metadata": {},
   "outputs": [
    {
     "data": {
      "text/plain": [
       "0     20\n",
       "1      1\n",
       "2      7\n",
       "3     33\n",
       "4    -42\n",
       "      ..\n",
       "95   -13\n",
       "96   -45\n",
       "97    45\n",
       "98   -27\n",
       "99   -29\n",
       "Length: 100, dtype: int64"
      ]
     },
     "execution_count": 28,
     "metadata": {},
     "output_type": "execute_result"
    }
   ],
   "source": [
    "s"
   ]
  },
  {
   "cell_type": "code",
   "execution_count": 29,
   "id": "354e35c8",
   "metadata": {},
   "outputs": [
    {
     "data": {
      "text/plain": [
       "0    20\n",
       "1     1\n",
       "2     7\n",
       "3    33\n",
       "4   -42\n",
       "5    17\n",
       "6     4\n",
       "7   -29\n",
       "8     8\n",
       "9    29\n",
       "dtype: int64"
      ]
     },
     "execution_count": 29,
     "metadata": {},
     "output_type": "execute_result"
    }
   ],
   "source": [
    "s.head(10)"
   ]
  },
  {
   "cell_type": "code",
   "execution_count": 31,
   "id": "ba343210",
   "metadata": {},
   "outputs": [
    {
     "data": {
      "text/plain": [
       "90   -37\n",
       "91   -22\n",
       "92   -41\n",
       "93   -17\n",
       "94    11\n",
       "95   -13\n",
       "96   -45\n",
       "97    45\n",
       "98   -27\n",
       "99   -29\n",
       "dtype: int64"
      ]
     },
     "execution_count": 31,
     "metadata": {},
     "output_type": "execute_result"
    }
   ],
   "source": [
    "s.tail(10)"
   ]
  },
  {
   "cell_type": "code",
   "execution_count": 34,
   "id": "f7cbb32b",
   "metadata": {},
   "outputs": [
    {
     "data": {
      "text/plain": [
       "4    -42\n",
       "9     29\n",
       "15    -3\n",
       "10    16\n",
       "dtype: int64"
      ]
     },
     "execution_count": 34,
     "metadata": {},
     "output_type": "execute_result"
    }
   ],
   "source": [
    "s.take([4, 9, 15, 10])"
   ]
  },
  {
   "cell_type": "code",
   "execution_count": 38,
   "id": "2f149594",
   "metadata": {},
   "outputs": [
    {
     "data": {
      "text/plain": [
       "23    47\n",
       "25    49\n",
       "27     1\n",
       "29   -33\n",
       "31    22\n",
       "33    -1\n",
       "35     6\n",
       "dtype: int64"
      ]
     },
     "execution_count": 38,
     "metadata": {},
     "output_type": "execute_result"
    }
   ],
   "source": [
    "s.take(range(23, 36, 2))"
   ]
  },
  {
   "cell_type": "code",
   "execution_count": 39,
   "id": "8996fc81",
   "metadata": {},
   "outputs": [],
   "source": [
    "nums = [randint(-50, 50) for i in range(26)]"
   ]
  },
  {
   "cell_type": "code",
   "execution_count": 40,
   "id": "0b5ae851",
   "metadata": {},
   "outputs": [],
   "source": [
    "s = pd.Series(nums)"
   ]
  },
  {
   "cell_type": "code",
   "execution_count": 41,
   "id": "99319c24",
   "metadata": {},
   "outputs": [
    {
     "data": {
      "text/plain": [
       "11"
      ]
     },
     "execution_count": 41,
     "metadata": {},
     "output_type": "execute_result"
    }
   ],
   "source": [
    "s[2]"
   ]
  },
  {
   "cell_type": "code",
   "execution_count": 42,
   "id": "f1982108",
   "metadata": {},
   "outputs": [
    {
     "data": {
      "text/plain": [
       "-13"
      ]
     },
     "execution_count": 42,
     "metadata": {},
     "output_type": "execute_result"
    }
   ],
   "source": [
    "s[23]"
   ]
  },
  {
   "cell_type": "code",
   "execution_count": 43,
   "id": "7417adf1",
   "metadata": {},
   "outputs": [
    {
     "data": {
      "text/plain": [
       "44"
      ]
     },
     "execution_count": 43,
     "metadata": {},
     "output_type": "execute_result"
    }
   ],
   "source": [
    "s[15]"
   ]
  },
  {
   "cell_type": "code",
   "execution_count": 44,
   "id": "dbe9cdee",
   "metadata": {},
   "outputs": [
    {
     "data": {
      "text/plain": [
       "10    37\n",
       "11   -12\n",
       "12   -24\n",
       "13    23\n",
       "14    25\n",
       "dtype: int64"
      ]
     },
     "execution_count": 44,
     "metadata": {},
     "output_type": "execute_result"
    }
   ],
   "source": [
    "s[10: 15]"
   ]
  },
  {
   "cell_type": "code",
   "execution_count": 45,
   "id": "1f599ddd",
   "metadata": {},
   "outputs": [
    {
     "data": {
      "text/plain": [
       "0     9\n",
       "1   -18\n",
       "2    11\n",
       "3    -3\n",
       "4     3\n",
       "5   -20\n",
       "6    39\n",
       "7    19\n",
       "8    28\n",
       "9    25\n",
       "dtype: int64"
      ]
     },
     "execution_count": 45,
     "metadata": {},
     "output_type": "execute_result"
    }
   ],
   "source": [
    "s[:10]"
   ]
  },
  {
   "cell_type": "code",
   "execution_count": 46,
   "id": "e6ba02e2",
   "metadata": {},
   "outputs": [
    {
     "data": {
      "text/plain": [
       "23   -13\n",
       "24     3\n",
       "25    23\n",
       "dtype: int64"
      ]
     },
     "execution_count": 46,
     "metadata": {},
     "output_type": "execute_result"
    }
   ],
   "source": [
    "s[23:]"
   ]
  },
  {
   "cell_type": "code",
   "execution_count": 47,
   "id": "6653198d",
   "metadata": {},
   "outputs": [
    {
     "data": {
      "text/plain": [
       "10    37\n",
       "9     25\n",
       "8     28\n",
       "7     19\n",
       "6     39\n",
       "5    -20\n",
       "dtype: int64"
      ]
     },
     "execution_count": 47,
     "metadata": {},
     "output_type": "execute_result"
    }
   ],
   "source": [
    "s[10:4:-1]"
   ]
  },
  {
   "cell_type": "code",
   "execution_count": 48,
   "id": "c0e4a7cb",
   "metadata": {},
   "outputs": [
    {
     "data": {
      "text/plain": [
       "25    23\n",
       "24     3\n",
       "23   -13\n",
       "22   -38\n",
       "21    32\n",
       "20   -14\n",
       "19   -42\n",
       "18   -27\n",
       "17     5\n",
       "16   -48\n",
       "15    44\n",
       "14    25\n",
       "13    23\n",
       "12   -24\n",
       "11   -12\n",
       "10    37\n",
       "9     25\n",
       "8     28\n",
       "7     19\n",
       "6     39\n",
       "5    -20\n",
       "4      3\n",
       "3     -3\n",
       "2     11\n",
       "1    -18\n",
       "0      9\n",
       "dtype: int64"
      ]
     },
     "execution_count": 48,
     "metadata": {},
     "output_type": "execute_result"
    }
   ],
   "source": [
    "s[::-1]"
   ]
  },
  {
   "cell_type": "code",
   "execution_count": 49,
   "id": "721c710f",
   "metadata": {},
   "outputs": [
    {
     "data": {
      "text/plain": [
       "0      9\n",
       "1    -18\n",
       "2     11\n",
       "3     -3\n",
       "4      3\n",
       "5    -20\n",
       "6     39\n",
       "7     19\n",
       "8     28\n",
       "9     25\n",
       "10    37\n",
       "11   -12\n",
       "12   -24\n",
       "13    23\n",
       "14    25\n",
       "15    44\n",
       "16   -48\n",
       "17     5\n",
       "18   -27\n",
       "19   -42\n",
       "20   -14\n",
       "21    32\n",
       "22   -38\n",
       "23   -13\n",
       "24     3\n",
       "dtype: int64"
      ]
     },
     "execution_count": 49,
     "metadata": {},
     "output_type": "execute_result"
    }
   ],
   "source": [
    "s[:-1]"
   ]
  },
  {
   "cell_type": "code",
   "execution_count": 52,
   "id": "df903f2d",
   "metadata": {},
   "outputs": [
    {
     "data": {
      "text/plain": [
       "'abcdefghijklmnopqrstuvwxyz'"
      ]
     },
     "execution_count": 52,
     "metadata": {},
     "output_type": "execute_result"
    }
   ],
   "source": [
    "ascii_lowercase"
   ]
  },
  {
   "cell_type": "code",
   "execution_count": 53,
   "id": "ab27ad31",
   "metadata": {},
   "outputs": [],
   "source": [
    "ind = list(ascii_lowercase)"
   ]
  },
  {
   "cell_type": "code",
   "execution_count": 54,
   "id": "7161da57",
   "metadata": {},
   "outputs": [
    {
     "data": {
      "text/plain": [
       "['a',\n",
       " 'b',\n",
       " 'c',\n",
       " 'd',\n",
       " 'e',\n",
       " 'f',\n",
       " 'g',\n",
       " 'h',\n",
       " 'i',\n",
       " 'j',\n",
       " 'k',\n",
       " 'l',\n",
       " 'm',\n",
       " 'n',\n",
       " 'o',\n",
       " 'p',\n",
       " 'q',\n",
       " 'r',\n",
       " 's',\n",
       " 't',\n",
       " 'u',\n",
       " 'v',\n",
       " 'w',\n",
       " 'x',\n",
       " 'y',\n",
       " 'z']"
      ]
     },
     "execution_count": 54,
     "metadata": {},
     "output_type": "execute_result"
    }
   ],
   "source": [
    "ind"
   ]
  },
  {
   "cell_type": "code",
   "execution_count": 62,
   "id": "72704f4d",
   "metadata": {},
   "outputs": [],
   "source": [
    "letters = pd.Series(nums, index=ind)"
   ]
  },
  {
   "cell_type": "code",
   "execution_count": 63,
   "id": "97f96161",
   "metadata": {},
   "outputs": [
    {
     "data": {
      "text/plain": [
       "k     9\n",
       "v   -18\n",
       "w    11\n",
       "q    -3\n",
       "s     3\n",
       "u   -20\n",
       "z    39\n",
       "y    19\n",
       "g    28\n",
       "h    25\n",
       "c    37\n",
       "i   -12\n",
       "j   -24\n",
       "m    23\n",
       "o    25\n",
       "a    44\n",
       "t   -48\n",
       "x     5\n",
       "n   -27\n",
       "d   -42\n",
       "p   -14\n",
       "f    32\n",
       "l   -38\n",
       "e   -13\n",
       "r     3\n",
       "b    23\n",
       "dtype: int64"
      ]
     },
     "execution_count": 63,
     "metadata": {},
     "output_type": "execute_result"
    }
   ],
   "source": [
    "letters"
   ]
  },
  {
   "cell_type": "code",
   "execution_count": 57,
   "id": "afc67b25",
   "metadata": {},
   "outputs": [
    {
     "data": {
      "text/plain": [
       "9"
      ]
     },
     "execution_count": 57,
     "metadata": {},
     "output_type": "execute_result"
    }
   ],
   "source": [
    "letters[0]"
   ]
  },
  {
   "cell_type": "code",
   "execution_count": 58,
   "id": "c9132a45",
   "metadata": {},
   "outputs": [
    {
     "data": {
      "text/plain": [
       "9"
      ]
     },
     "execution_count": 58,
     "metadata": {},
     "output_type": "execute_result"
    }
   ],
   "source": [
    "letters['a']"
   ]
  },
  {
   "cell_type": "code",
   "execution_count": 60,
   "id": "22f99d06",
   "metadata": {},
   "outputs": [],
   "source": [
    "shuffle(ind)"
   ]
  },
  {
   "cell_type": "code",
   "execution_count": 61,
   "id": "ede616ef",
   "metadata": {},
   "outputs": [
    {
     "data": {
      "text/plain": [
       "['k',\n",
       " 'v',\n",
       " 'w',\n",
       " 'q',\n",
       " 's',\n",
       " 'u',\n",
       " 'z',\n",
       " 'y',\n",
       " 'g',\n",
       " 'h',\n",
       " 'c',\n",
       " 'i',\n",
       " 'j',\n",
       " 'm',\n",
       " 'o',\n",
       " 'a',\n",
       " 't',\n",
       " 'x',\n",
       " 'n',\n",
       " 'd',\n",
       " 'p',\n",
       " 'f',\n",
       " 'l',\n",
       " 'e',\n",
       " 'r',\n",
       " 'b']"
      ]
     },
     "execution_count": 61,
     "metadata": {},
     "output_type": "execute_result"
    }
   ],
   "source": [
    "ind"
   ]
  },
  {
   "cell_type": "code",
   "execution_count": 64,
   "id": "d3bbd458",
   "metadata": {},
   "outputs": [
    {
     "data": {
      "text/plain": [
       "k     9\n",
       "v   -18\n",
       "w    11\n",
       "q    -3\n",
       "s     3\n",
       "u   -20\n",
       "z    39\n",
       "y    19\n",
       "g    28\n",
       "h    25\n",
       "c    37\n",
       "i   -12\n",
       "j   -24\n",
       "m    23\n",
       "o    25\n",
       "a    44\n",
       "t   -48\n",
       "x     5\n",
       "n   -27\n",
       "d   -42\n",
       "p   -14\n",
       "f    32\n",
       "l   -38\n",
       "e   -13\n",
       "r     3\n",
       "b    23\n",
       "dtype: int64"
      ]
     },
     "execution_count": 64,
     "metadata": {},
     "output_type": "execute_result"
    }
   ],
   "source": [
    "letters"
   ]
  },
  {
   "cell_type": "code",
   "execution_count": 65,
   "id": "42a2d2e9",
   "metadata": {},
   "outputs": [
    {
     "data": {
      "text/plain": [
       "a    44\n",
       "t   -48\n",
       "x     5\n",
       "n   -27\n",
       "d   -42\n",
       "p   -14\n",
       "f    32\n",
       "l   -38\n",
       "e   -13\n",
       "r     3\n",
       "b    23\n",
       "dtype: int64"
      ]
     },
     "execution_count": 65,
     "metadata": {},
     "output_type": "execute_result"
    }
   ],
   "source": [
    "letters['a': 'b']"
   ]
  },
  {
   "cell_type": "code",
   "execution_count": 67,
   "id": "83408f7d",
   "metadata": {},
   "outputs": [],
   "source": [
    "nums = [randint(-50, 50) for i in range(10)]\n",
    "indexes = [choice([0,1,2,3]) for i in range(10)]"
   ]
  },
  {
   "cell_type": "code",
   "execution_count": 72,
   "id": "a53e9382",
   "metadata": {},
   "outputs": [],
   "source": [
    "s = pd.Series(nums, index=indexes)"
   ]
  },
  {
   "cell_type": "code",
   "execution_count": 69,
   "id": "7d763675",
   "metadata": {},
   "outputs": [
    {
     "data": {
      "text/plain": [
       "[38, 19, 34, 42, 33, 16, -19, -14, -40, -42]"
      ]
     },
     "execution_count": 69,
     "metadata": {},
     "output_type": "execute_result"
    }
   ],
   "source": [
    "nums"
   ]
  },
  {
   "cell_type": "code",
   "execution_count": 70,
   "id": "38326b9f",
   "metadata": {},
   "outputs": [
    {
     "data": {
      "text/plain": [
       "[3, 0, 3, 2, 1, 3, 0, 2, 1, 0]"
      ]
     },
     "execution_count": 70,
     "metadata": {},
     "output_type": "execute_result"
    }
   ],
   "source": [
    "indexes"
   ]
  },
  {
   "cell_type": "code",
   "execution_count": 71,
   "id": "b1154dc6",
   "metadata": {},
   "outputs": [
    {
     "data": {
      "text/plain": [
       "0    38\n",
       "1    19\n",
       "2    34\n",
       "3    42\n",
       "4    33\n",
       "5    16\n",
       "6   -19\n",
       "7   -14\n",
       "8   -40\n",
       "9   -42\n",
       "dtype: int64"
      ]
     },
     "execution_count": 71,
     "metadata": {},
     "output_type": "execute_result"
    }
   ],
   "source": [
    "s"
   ]
  },
  {
   "cell_type": "code",
   "execution_count": 73,
   "id": "acaa54a7",
   "metadata": {},
   "outputs": [
    {
     "data": {
      "text/plain": [
       "3    38\n",
       "0    19\n",
       "3    34\n",
       "2    42\n",
       "1    33\n",
       "3    16\n",
       "0   -19\n",
       "2   -14\n",
       "1   -40\n",
       "0   -42\n",
       "dtype: int64"
      ]
     },
     "execution_count": 73,
     "metadata": {},
     "output_type": "execute_result"
    }
   ],
   "source": [
    "s"
   ]
  },
  {
   "cell_type": "code",
   "execution_count": 74,
   "id": "cecb6d44",
   "metadata": {},
   "outputs": [
    {
     "data": {
      "text/plain": [
       "2    42\n",
       "2   -14\n",
       "dtype: int64"
      ]
     },
     "execution_count": 74,
     "metadata": {},
     "output_type": "execute_result"
    }
   ],
   "source": [
    "s[2]"
   ]
  },
  {
   "cell_type": "code",
   "execution_count": 77,
   "id": "5b0f2251",
   "metadata": {},
   "outputs": [
    {
     "data": {
      "text/plain": [
       "19"
      ]
     },
     "execution_count": 77,
     "metadata": {},
     "output_type": "execute_result"
    }
   ],
   "source": [
    "s.iloc[1]"
   ]
  },
  {
   "cell_type": "code",
   "execution_count": 78,
   "id": "31e0215b",
   "metadata": {},
   "outputs": [
    {
     "data": {
      "text/plain": [
       "0    19\n",
       "3    34\n",
       "dtype: int64"
      ]
     },
     "execution_count": 78,
     "metadata": {},
     "output_type": "execute_result"
    }
   ],
   "source": [
    "s.iloc[[1, 2]]"
   ]
  },
  {
   "cell_type": "code",
   "execution_count": 79,
   "id": "8bdedfb5",
   "metadata": {},
   "outputs": [
    {
     "data": {
      "text/plain": [
       "0    19\n",
       "dtype: int64"
      ]
     },
     "execution_count": 79,
     "metadata": {},
     "output_type": "execute_result"
    }
   ],
   "source": [
    "s.iloc[[1]]"
   ]
  },
  {
   "cell_type": "code",
   "execution_count": 80,
   "id": "437f4d54",
   "metadata": {},
   "outputs": [
    {
     "data": {
      "text/plain": [
       "3    38\n",
       "3    34\n",
       "3    16\n",
       "dtype: int64"
      ]
     },
     "execution_count": 80,
     "metadata": {},
     "output_type": "execute_result"
    }
   ],
   "source": [
    "s.loc[3]"
   ]
  },
  {
   "cell_type": "code",
   "execution_count": 81,
   "id": "f41d7c1a",
   "metadata": {},
   "outputs": [
    {
     "data": {
      "text/plain": [
       "1    33\n",
       "1   -40\n",
       "dtype: int64"
      ]
     },
     "execution_count": 81,
     "metadata": {},
     "output_type": "execute_result"
    }
   ],
   "source": [
    "s.loc[1]"
   ]
  },
  {
   "cell_type": "code",
   "execution_count": 82,
   "id": "c5b4dced",
   "metadata": {},
   "outputs": [
    {
     "data": {
      "text/plain": [
       "1    33\n",
       "1   -40\n",
       "3    38\n",
       "3    34\n",
       "3    16\n",
       "dtype: int64"
      ]
     },
     "execution_count": 82,
     "metadata": {},
     "output_type": "execute_result"
    }
   ],
   "source": [
    "s.loc[[1,3]]"
   ]
  },
  {
   "cell_type": "code",
   "execution_count": 83,
   "id": "c6a912ac",
   "metadata": {},
   "outputs": [],
   "source": [
    "s.loc[3] = 20"
   ]
  },
  {
   "cell_type": "code",
   "execution_count": 84,
   "id": "285058c6",
   "metadata": {},
   "outputs": [
    {
     "data": {
      "text/plain": [
       "3    20\n",
       "0    19\n",
       "3    20\n",
       "2    42\n",
       "1    33\n",
       "3    20\n",
       "0   -19\n",
       "2   -14\n",
       "1   -40\n",
       "0   -42\n",
       "dtype: int64"
      ]
     },
     "execution_count": 84,
     "metadata": {},
     "output_type": "execute_result"
    }
   ],
   "source": [
    "s"
   ]
  },
  {
   "cell_type": "code",
   "execution_count": 85,
   "id": "112281c8",
   "metadata": {},
   "outputs": [],
   "source": [
    "nums = [randint(-50, 50) for i in range(15)]"
   ]
  },
  {
   "cell_type": "code",
   "execution_count": 86,
   "id": "87cfd101",
   "metadata": {},
   "outputs": [],
   "source": [
    "s = pd.Series(nums)"
   ]
  },
  {
   "cell_type": "code",
   "execution_count": 87,
   "id": "a232f9c8",
   "metadata": {},
   "outputs": [
    {
     "data": {
      "text/plain": [
       "0      0\n",
       "1     45\n",
       "2    -31\n",
       "3     -8\n",
       "4    -47\n",
       "5     20\n",
       "6      5\n",
       "7     25\n",
       "8      4\n",
       "9     -5\n",
       "10   -42\n",
       "11    13\n",
       "12   -32\n",
       "13   -19\n",
       "14    26\n",
       "dtype: int64"
      ]
     },
     "execution_count": 87,
     "metadata": {},
     "output_type": "execute_result"
    }
   ],
   "source": [
    "s"
   ]
  },
  {
   "cell_type": "code",
   "execution_count": 88,
   "id": "d953b7a2",
   "metadata": {},
   "outputs": [
    {
     "data": {
      "text/plain": [
       "<bound method Series.sort_values of 0      0\n",
       "1     45\n",
       "2    -31\n",
       "3     -8\n",
       "4    -47\n",
       "5     20\n",
       "6      5\n",
       "7     25\n",
       "8      4\n",
       "9     -5\n",
       "10   -42\n",
       "11    13\n",
       "12   -32\n",
       "13   -19\n",
       "14    26\n",
       "dtype: int64>"
      ]
     },
     "execution_count": 88,
     "metadata": {},
     "output_type": "execute_result"
    }
   ],
   "source": [
    "s.sort_values"
   ]
  },
  {
   "cell_type": "code",
   "execution_count": 89,
   "id": "8660db17",
   "metadata": {},
   "outputs": [
    {
     "data": {
      "text/plain": [
       "4    -47\n",
       "10   -42\n",
       "12   -32\n",
       "2    -31\n",
       "13   -19\n",
       "3     -8\n",
       "9     -5\n",
       "0      0\n",
       "8      4\n",
       "6      5\n",
       "11    13\n",
       "5     20\n",
       "7     25\n",
       "14    26\n",
       "1     45\n",
       "dtype: int64"
      ]
     },
     "execution_count": 89,
     "metadata": {},
     "output_type": "execute_result"
    }
   ],
   "source": [
    "s.sort_values()"
   ]
  },
  {
   "cell_type": "code",
   "execution_count": 90,
   "id": "1e9f0e93",
   "metadata": {},
   "outputs": [
    {
     "data": {
      "text/plain": [
       "140288351481232"
      ]
     },
     "execution_count": 90,
     "metadata": {},
     "output_type": "execute_result"
    }
   ],
   "source": [
    "id(s)"
   ]
  },
  {
   "cell_type": "code",
   "execution_count": 91,
   "id": "6fcc7404",
   "metadata": {},
   "outputs": [],
   "source": [
    "s = s.sort_values()"
   ]
  },
  {
   "cell_type": "code",
   "execution_count": 92,
   "id": "fac52f32",
   "metadata": {},
   "outputs": [
    {
     "data": {
      "text/plain": [
       "140288351160720"
      ]
     },
     "execution_count": 92,
     "metadata": {},
     "output_type": "execute_result"
    }
   ],
   "source": [
    "id(s)"
   ]
  },
  {
   "cell_type": "code",
   "execution_count": 93,
   "id": "14790d10",
   "metadata": {},
   "outputs": [],
   "source": [
    "nums = [randint(-50, 50) for i in range(15)]"
   ]
  },
  {
   "cell_type": "code",
   "execution_count": 94,
   "id": "66c56417",
   "metadata": {},
   "outputs": [],
   "source": [
    "s = pd.Series(nums)"
   ]
  },
  {
   "cell_type": "code",
   "execution_count": 95,
   "id": "f2834bdd",
   "metadata": {},
   "outputs": [
    {
     "data": {
      "text/plain": [
       "0     12\n",
       "1     15\n",
       "2    -42\n",
       "3     45\n",
       "4    -23\n",
       "5     49\n",
       "6    -33\n",
       "7    -26\n",
       "8    -44\n",
       "9     -2\n",
       "10   -40\n",
       "11    -2\n",
       "12   -25\n",
       "13   -50\n",
       "14    50\n",
       "dtype: int64"
      ]
     },
     "execution_count": 95,
     "metadata": {},
     "output_type": "execute_result"
    }
   ],
   "source": [
    "s"
   ]
  },
  {
   "cell_type": "code",
   "execution_count": 97,
   "id": "611ab442",
   "metadata": {},
   "outputs": [],
   "source": [
    "s.sort_values(inplace=True)"
   ]
  },
  {
   "cell_type": "code",
   "execution_count": 96,
   "id": "ea02ab58",
   "metadata": {},
   "outputs": [
    {
     "data": {
      "text/plain": [
       "140288351223568"
      ]
     },
     "execution_count": 96,
     "metadata": {},
     "output_type": "execute_result"
    }
   ],
   "source": [
    "id(s)"
   ]
  },
  {
   "cell_type": "code",
   "execution_count": 98,
   "id": "2ed02d7c",
   "metadata": {},
   "outputs": [
    {
     "data": {
      "text/plain": [
       "13   -50\n",
       "8    -44\n",
       "2    -42\n",
       "10   -40\n",
       "6    -33\n",
       "7    -26\n",
       "12   -25\n",
       "4    -23\n",
       "9     -2\n",
       "11    -2\n",
       "0     12\n",
       "1     15\n",
       "3     45\n",
       "5     49\n",
       "14    50\n",
       "dtype: int64"
      ]
     },
     "execution_count": 98,
     "metadata": {},
     "output_type": "execute_result"
    }
   ],
   "source": [
    "s"
   ]
  },
  {
   "cell_type": "code",
   "execution_count": 99,
   "id": "a2aa8370",
   "metadata": {},
   "outputs": [
    {
     "data": {
      "text/plain": [
       "140288351223568"
      ]
     },
     "execution_count": 99,
     "metadata": {},
     "output_type": "execute_result"
    }
   ],
   "source": [
    "id(s)"
   ]
  },
  {
   "cell_type": "code",
   "execution_count": 100,
   "id": "c64ca72e",
   "metadata": {},
   "outputs": [],
   "source": [
    "nums = [randint(-50, 50) for i in range(15)]"
   ]
  },
  {
   "cell_type": "code",
   "execution_count": 101,
   "id": "208ad8c9",
   "metadata": {},
   "outputs": [],
   "source": [
    "s = pd.Series(nums)"
   ]
  },
  {
   "cell_type": "code",
   "execution_count": 102,
   "id": "e2f99a2a",
   "metadata": {},
   "outputs": [
    {
     "data": {
      "text/plain": [
       "11    41\n",
       "2     30\n",
       "0     26\n",
       "1     25\n",
       "14    15\n",
       "7      7\n",
       "5      0\n",
       "12    -2\n",
       "13    -3\n",
       "3     -9\n",
       "8    -10\n",
       "6    -25\n",
       "9    -34\n",
       "4    -44\n",
       "10   -46\n",
       "dtype: int64"
      ]
     },
     "execution_count": 102,
     "metadata": {},
     "output_type": "execute_result"
    }
   ],
   "source": [
    "s.sort_values(ascending=False)"
   ]
  },
  {
   "cell_type": "code",
   "execution_count": 103,
   "id": "a7857e03",
   "metadata": {},
   "outputs": [
    {
     "name": "stdout",
     "output_type": "stream",
     "text": [
      "Collecting faker\n",
      "  Downloading Faker-19.2.0-py3-none-any.whl (1.7 MB)\n",
      "\u001b[2K     \u001b[38;2;114;156;31m━━━━━━━━━━━━━━━━━━━━━━━━━━━━━━━━━━━━━━━━\u001b[0m \u001b[32m1.7/1.7 MB\u001b[0m \u001b[31m1.0 MB/s\u001b[0m eta \u001b[36m0:00:00\u001b[0m[36m0:00:01\u001b[0m \u001b[36m0:00:01\u001b[0m:01\u001b[0m\n",
      "\u001b[?25hRequirement already satisfied: python-dateutil>=2.4 in /home/laziz/anaconda3/lib/python3.11/site-packages (from faker) (2.8.2)\n",
      "Requirement already satisfied: six>=1.5 in /home/laziz/anaconda3/lib/python3.11/site-packages (from python-dateutil>=2.4->faker) (1.16.0)\n",
      "Installing collected packages: faker\n",
      "Successfully installed faker-19.2.0\n",
      "Note: you may need to restart the kernel to use updated packages.\n"
     ]
    }
   ],
   "source": [
    "pip install faker"
   ]
  },
  {
   "cell_type": "code",
   "execution_count": 104,
   "id": "1ca5612d",
   "metadata": {},
   "outputs": [],
   "source": [
    "from faker import Faker"
   ]
  },
  {
   "cell_type": "code",
   "execution_count": 105,
   "id": "3988c380",
   "metadata": {},
   "outputs": [],
   "source": [
    "fake = Faker()"
   ]
  },
  {
   "cell_type": "code",
   "execution_count": 112,
   "id": "78bab5ef",
   "metadata": {},
   "outputs": [
    {
     "data": {
      "text/plain": [
       "'Valerie Wood'"
      ]
     },
     "execution_count": 112,
     "metadata": {},
     "output_type": "execute_result"
    }
   ],
   "source": [
    "fake.name()"
   ]
  },
  {
   "cell_type": "code",
   "execution_count": 113,
   "id": "44dceeed",
   "metadata": {},
   "outputs": [],
   "source": [
    "names = [fake.name() for i in range(15)] "
   ]
  },
  {
   "cell_type": "code",
   "execution_count": 114,
   "id": "b44b4b1d",
   "metadata": {},
   "outputs": [
    {
     "data": {
      "text/plain": [
       "['Bradley Martinez',\n",
       " 'Samuel Cline',\n",
       " 'Gerald Graham',\n",
       " 'Arthur Jenkins',\n",
       " 'Samantha Wagner',\n",
       " 'Timothy Graves',\n",
       " 'Peter Bradley Jr.',\n",
       " 'Mr. Robert Miller',\n",
       " 'Isabel Christensen',\n",
       " 'Eric Austin',\n",
       " 'Rebecca Cruz',\n",
       " 'Stephanie Baker',\n",
       " 'Natalie Oliver',\n",
       " 'Daniel Thomas',\n",
       " 'Kevin Ramirez']"
      ]
     },
     "execution_count": 114,
     "metadata": {},
     "output_type": "execute_result"
    }
   ],
   "source": [
    "names"
   ]
  },
  {
   "cell_type": "code",
   "execution_count": 115,
   "id": "42080f28",
   "metadata": {},
   "outputs": [],
   "source": [
    "n = pd.Series(names)"
   ]
  },
  {
   "cell_type": "code",
   "execution_count": 118,
   "id": "f2b2cabf",
   "metadata": {},
   "outputs": [
    {
     "data": {
      "text/plain": [
       "5         Timothy Graves\n",
       "11       Stephanie Baker\n",
       "1           Samuel Cline\n",
       "4        Samantha Wagner\n",
       "10          Rebecca Cruz\n",
       "6      Peter Bradley Jr.\n",
       "12        Natalie Oliver\n",
       "7      Mr. Robert Miller\n",
       "14         Kevin Ramirez\n",
       "8     Isabel Christensen\n",
       "2          Gerald Graham\n",
       "9            Eric Austin\n",
       "13         Daniel Thomas\n",
       "0       Bradley Martinez\n",
       "3         Arthur Jenkins\n",
       "dtype: object"
      ]
     },
     "execution_count": 118,
     "metadata": {},
     "output_type": "execute_result"
    }
   ],
   "source": [
    "n.sort_values(ascending=False)"
   ]
  },
  {
   "cell_type": "code",
   "execution_count": 119,
   "id": "5ef03099",
   "metadata": {},
   "outputs": [
    {
     "data": {
      "text/plain": [
       "3         Arthur Jenkins\n",
       "0       Bradley Martinez\n",
       "13         Daniel Thomas\n",
       "9            Eric Austin\n",
       "2          Gerald Graham\n",
       "8     Isabel Christensen\n",
       "14         Kevin Ramirez\n",
       "7      Mr. Robert Miller\n",
       "12        Natalie Oliver\n",
       "6      Peter Bradley Jr.\n",
       "10          Rebecca Cruz\n",
       "4        Samantha Wagner\n",
       "1           Samuel Cline\n",
       "11       Stephanie Baker\n",
       "5         Timothy Graves\n",
       "dtype: object"
      ]
     },
     "execution_count": 119,
     "metadata": {},
     "output_type": "execute_result"
    }
   ],
   "source": [
    "n.sort_values()"
   ]
  },
  {
   "cell_type": "code",
   "execution_count": 120,
   "id": "e71b3f55",
   "metadata": {},
   "outputs": [],
   "source": [
    "nums = [randint(-50, 50) for i in range(15)]\n",
    "names = [fake.name() for i in range(15)] "
   ]
  },
  {
   "cell_type": "code",
   "execution_count": 121,
   "id": "27625d87",
   "metadata": {},
   "outputs": [],
   "source": [
    "a = pd.Series(nums)"
   ]
  },
  {
   "cell_type": "code",
   "execution_count": 122,
   "id": "02c5cd41",
   "metadata": {},
   "outputs": [
    {
     "data": {
      "text/plain": [
       "['Laura Reed',\n",
       " 'Dr. Matthew Middleton',\n",
       " 'Dr. Dean Barnes',\n",
       " 'Angelica Armstrong',\n",
       " 'Derek Martinez',\n",
       " 'Melvin King',\n",
       " 'Brad Ward',\n",
       " 'Christopher Miller',\n",
       " 'Elizabeth Young',\n",
       " 'William Coleman',\n",
       " 'William Henry Jr.',\n",
       " 'Jerry Moore',\n",
       " 'Richard Cortez',\n",
       " 'Chelsey Mason',\n",
       " 'Dorothy Johnson']"
      ]
     },
     "execution_count": 122,
     "metadata": {},
     "output_type": "execute_result"
    }
   ],
   "source": [
    "names"
   ]
  },
  {
   "cell_type": "code",
   "execution_count": 123,
   "id": "a0081cae",
   "metadata": {},
   "outputs": [
    {
     "data": {
      "text/plain": [
       "[16, 7, 35, -27, -22, -3, -35, 3, -4, -28, -33, -7, -33, 35, -28]"
      ]
     },
     "execution_count": 123,
     "metadata": {},
     "output_type": "execute_result"
    }
   ],
   "source": [
    "nums"
   ]
  },
  {
   "cell_type": "code",
   "execution_count": 124,
   "id": "cbf310d5",
   "metadata": {},
   "outputs": [
    {
     "data": {
      "text/plain": [
       "0     16\n",
       "1      7\n",
       "2     35\n",
       "3    -27\n",
       "4    -22\n",
       "5     -3\n",
       "6    -35\n",
       "7      3\n",
       "8     -4\n",
       "9    -28\n",
       "10   -33\n",
       "11    -7\n",
       "12   -33\n",
       "13    35\n",
       "14   -28\n",
       "dtype: int64"
      ]
     },
     "execution_count": 124,
     "metadata": {},
     "output_type": "execute_result"
    }
   ],
   "source": [
    "a"
   ]
  },
  {
   "cell_type": "code",
   "execution_count": 125,
   "id": "4073ad6f",
   "metadata": {},
   "outputs": [],
   "source": [
    "a.sort_values(inplace=True)"
   ]
  },
  {
   "cell_type": "code",
   "execution_count": 126,
   "id": "38635a72",
   "metadata": {},
   "outputs": [
    {
     "data": {
      "text/plain": [
       "6    -35\n",
       "10   -33\n",
       "12   -33\n",
       "9    -28\n",
       "14   -28\n",
       "3    -27\n",
       "4    -22\n",
       "11    -7\n",
       "8     -4\n",
       "5     -3\n",
       "7      3\n",
       "1      7\n",
       "0     16\n",
       "2     35\n",
       "13    35\n",
       "dtype: int64"
      ]
     },
     "execution_count": 126,
     "metadata": {},
     "output_type": "execute_result"
    }
   ],
   "source": [
    "a"
   ]
  },
  {
   "cell_type": "code",
   "execution_count": 127,
   "id": "6ac9e662",
   "metadata": {},
   "outputs": [
    {
     "data": {
      "text/plain": [
       "0     16\n",
       "1      7\n",
       "2     35\n",
       "3    -27\n",
       "4    -22\n",
       "5     -3\n",
       "6    -35\n",
       "7      3\n",
       "8     -4\n",
       "9    -28\n",
       "10   -33\n",
       "11    -7\n",
       "12   -33\n",
       "13    35\n",
       "14   -28\n",
       "dtype: int64"
      ]
     },
     "execution_count": 127,
     "metadata": {},
     "output_type": "execute_result"
    }
   ],
   "source": [
    "a.sort_index()"
   ]
  },
  {
   "cell_type": "code",
   "execution_count": 128,
   "id": "01ad5d67",
   "metadata": {},
   "outputs": [],
   "source": [
    "a.sort_index(inplace=True)"
   ]
  },
  {
   "cell_type": "code",
   "execution_count": 129,
   "id": "41515a1d",
   "metadata": {},
   "outputs": [
    {
     "data": {
      "text/plain": [
       "0     16\n",
       "1      7\n",
       "2     35\n",
       "3    -27\n",
       "4    -22\n",
       "5     -3\n",
       "6    -35\n",
       "7      3\n",
       "8     -4\n",
       "9    -28\n",
       "10   -33\n",
       "11    -7\n",
       "12   -33\n",
       "13    35\n",
       "14   -28\n",
       "dtype: int64"
      ]
     },
     "execution_count": 129,
     "metadata": {},
     "output_type": "execute_result"
    }
   ],
   "source": [
    "a"
   ]
  },
  {
   "cell_type": "code",
   "execution_count": 130,
   "id": "73c391b9",
   "metadata": {},
   "outputs": [],
   "source": [
    "s = pd.Series(nums, index=names)"
   ]
  },
  {
   "cell_type": "code",
   "execution_count": 131,
   "id": "f484187d",
   "metadata": {},
   "outputs": [
    {
     "data": {
      "text/plain": [
       "Laura Reed               16\n",
       "Dr. Matthew Middleton     7\n",
       "Dr. Dean Barnes          35\n",
       "Angelica Armstrong      -27\n",
       "Derek Martinez          -22\n",
       "Melvin King              -3\n",
       "Brad Ward               -35\n",
       "Christopher Miller        3\n",
       "Elizabeth Young          -4\n",
       "William Coleman         -28\n",
       "William Henry Jr.       -33\n",
       "Jerry Moore              -7\n",
       "Richard Cortez          -33\n",
       "Chelsey Mason            35\n",
       "Dorothy Johnson         -28\n",
       "dtype: int64"
      ]
     },
     "execution_count": 131,
     "metadata": {},
     "output_type": "execute_result"
    }
   ],
   "source": [
    "s"
   ]
  },
  {
   "cell_type": "code",
   "execution_count": 132,
   "id": "79c25232",
   "metadata": {},
   "outputs": [
    {
     "data": {
      "text/plain": [
       "Angelica Armstrong      -27\n",
       "Brad Ward               -35\n",
       "Chelsey Mason            35\n",
       "Christopher Miller        3\n",
       "Derek Martinez          -22\n",
       "Dorothy Johnson         -28\n",
       "Dr. Dean Barnes          35\n",
       "Dr. Matthew Middleton     7\n",
       "Elizabeth Young          -4\n",
       "Jerry Moore              -7\n",
       "Laura Reed               16\n",
       "Melvin King              -3\n",
       "Richard Cortez          -33\n",
       "William Coleman         -28\n",
       "William Henry Jr.       -33\n",
       "dtype: int64"
      ]
     },
     "execution_count": 132,
     "metadata": {},
     "output_type": "execute_result"
    }
   ],
   "source": [
    "s.sort_index()"
   ]
  },
  {
   "cell_type": "code",
   "execution_count": 133,
   "id": "c8bdbbaa",
   "metadata": {},
   "outputs": [
    {
     "data": {
      "text/plain": [
       "Dr. Dean Barnes          35\n",
       "Chelsey Mason            35\n",
       "Laura Reed               16\n",
       "Dr. Matthew Middleton     7\n",
       "Christopher Miller        3\n",
       "Melvin King              -3\n",
       "Elizabeth Young          -4\n",
       "Jerry Moore              -7\n",
       "Derek Martinez          -22\n",
       "Angelica Armstrong      -27\n",
       "William Coleman         -28\n",
       "Dorothy Johnson         -28\n",
       "William Henry Jr.       -33\n",
       "Richard Cortez          -33\n",
       "Brad Ward               -35\n",
       "dtype: int64"
      ]
     },
     "execution_count": 133,
     "metadata": {},
     "output_type": "execute_result"
    }
   ],
   "source": [
    "s.sort_values(ascending=False)"
   ]
  },
  {
   "cell_type": "code",
   "execution_count": 134,
   "id": "c03c650c",
   "metadata": {},
   "outputs": [
    {
     "data": {
      "text/plain": [
       "'2008-09-03'"
      ]
     },
     "execution_count": 134,
     "metadata": {},
     "output_type": "execute_result"
    }
   ],
   "source": [
    "fake.date()"
   ]
  },
  {
   "cell_type": "code",
   "execution_count": 135,
   "id": "2be83086",
   "metadata": {},
   "outputs": [],
   "source": [
    "dates = [fake.date() for i in range(15)]"
   ]
  },
  {
   "cell_type": "code",
   "execution_count": 136,
   "id": "666aa5c9",
   "metadata": {},
   "outputs": [
    {
     "data": {
      "text/plain": [
       "['1972-01-29',\n",
       " '1976-03-25',\n",
       " '2021-02-26',\n",
       " '2007-10-19',\n",
       " '2017-05-26',\n",
       " '1997-12-18',\n",
       " '1987-03-12',\n",
       " '1998-06-03',\n",
       " '1981-09-23',\n",
       " '2005-02-04',\n",
       " '2006-08-15',\n",
       " '2020-07-25',\n",
       " '1973-09-03',\n",
       " '2010-09-29',\n",
       " '1999-04-18']"
      ]
     },
     "execution_count": 136,
     "metadata": {},
     "output_type": "execute_result"
    }
   ],
   "source": [
    "dates"
   ]
  },
  {
   "cell_type": "code",
   "execution_count": 137,
   "id": "209ae442",
   "metadata": {},
   "outputs": [],
   "source": [
    "s = pd.Series(nums, index=dates)"
   ]
  },
  {
   "cell_type": "code",
   "execution_count": 138,
   "id": "f1a09ded",
   "metadata": {},
   "outputs": [
    {
     "data": {
      "text/plain": [
       "1972-01-29    16\n",
       "1976-03-25     7\n",
       "2021-02-26    35\n",
       "2007-10-19   -27\n",
       "2017-05-26   -22\n",
       "1997-12-18    -3\n",
       "1987-03-12   -35\n",
       "1998-06-03     3\n",
       "1981-09-23    -4\n",
       "2005-02-04   -28\n",
       "2006-08-15   -33\n",
       "2020-07-25    -7\n",
       "1973-09-03   -33\n",
       "2010-09-29    35\n",
       "1999-04-18   -28\n",
       "dtype: int64"
      ]
     },
     "execution_count": 138,
     "metadata": {},
     "output_type": "execute_result"
    }
   ],
   "source": [
    "s"
   ]
  },
  {
   "cell_type": "code",
   "execution_count": 139,
   "id": "bbfc5d6f",
   "metadata": {},
   "outputs": [
    {
     "data": {
      "text/plain": [
       "1972-01-29    16\n",
       "1973-09-03   -33\n",
       "1976-03-25     7\n",
       "1981-09-23    -4\n",
       "1987-03-12   -35\n",
       "1997-12-18    -3\n",
       "1998-06-03     3\n",
       "1999-04-18   -28\n",
       "2005-02-04   -28\n",
       "2006-08-15   -33\n",
       "2007-10-19   -27\n",
       "2010-09-29    35\n",
       "2017-05-26   -22\n",
       "2020-07-25    -7\n",
       "2021-02-26    35\n",
       "dtype: int64"
      ]
     },
     "execution_count": 139,
     "metadata": {},
     "output_type": "execute_result"
    }
   ],
   "source": [
    "s.sort_index()"
   ]
  },
  {
   "cell_type": "code",
   "execution_count": 143,
   "id": "9a102dec",
   "metadata": {},
   "outputs": [],
   "source": [
    "nums = [randint(-50, 50) for i in range(75)]\n",
    "names = [fake.name() for i in range(15)] "
   ]
  },
  {
   "cell_type": "code",
   "execution_count": 144,
   "id": "d5504d80",
   "metadata": {},
   "outputs": [],
   "source": [
    "a = pd.Series(nums)"
   ]
  },
  {
   "cell_type": "code",
   "execution_count": 145,
   "id": "039ef68a",
   "metadata": {},
   "outputs": [
    {
     "data": {
      "text/plain": [
       "0    -33\n",
       "1     39\n",
       "2     17\n",
       "3     16\n",
       "4     21\n",
       "      ..\n",
       "70     5\n",
       "71    19\n",
       "72    45\n",
       "73    25\n",
       "74    20\n",
       "Length: 75, dtype: int64"
      ]
     },
     "execution_count": 145,
     "metadata": {},
     "output_type": "execute_result"
    }
   ],
   "source": [
    "a"
   ]
  },
  {
   "cell_type": "code",
   "execution_count": 146,
   "id": "b03462d9",
   "metadata": {},
   "outputs": [],
   "source": [
    "def sign(x):\n",
    "    if x > 0:\n",
    "        return 'positive'\n",
    "    elif x < 0:\n",
    "        return 'negative'\n",
    "    return 'zero'"
   ]
  },
  {
   "cell_type": "code",
   "execution_count": 147,
   "id": "cc8dbe23",
   "metadata": {},
   "outputs": [
    {
     "data": {
      "text/plain": [
       "'positive'"
      ]
     },
     "execution_count": 147,
     "metadata": {},
     "output_type": "execute_result"
    }
   ],
   "source": [
    "sign(10)"
   ]
  },
  {
   "cell_type": "code",
   "execution_count": 148,
   "id": "ed2a5ef8",
   "metadata": {},
   "outputs": [
    {
     "data": {
      "text/plain": [
       "'negative'"
      ]
     },
     "execution_count": 148,
     "metadata": {},
     "output_type": "execute_result"
    }
   ],
   "source": [
    "sign(-6)"
   ]
  },
  {
   "cell_type": "code",
   "execution_count": 149,
   "id": "cb176e91",
   "metadata": {},
   "outputs": [
    {
     "data": {
      "text/plain": [
       "'zero'"
      ]
     },
     "execution_count": 149,
     "metadata": {},
     "output_type": "execute_result"
    }
   ],
   "source": [
    "sign(0)"
   ]
  },
  {
   "cell_type": "code",
   "execution_count": 152,
   "id": "3d5d6373",
   "metadata": {},
   "outputs": [
    {
     "data": {
      "text/plain": [
       "65    positive\n",
       "66    positive\n",
       "67    positive\n",
       "68    positive\n",
       "69    positive\n",
       "70    positive\n",
       "71    positive\n",
       "72    positive\n",
       "73    positive\n",
       "74    positive\n",
       "dtype: object"
      ]
     },
     "execution_count": 152,
     "metadata": {},
     "output_type": "execute_result"
    }
   ],
   "source": [
    "a.apply(sign).tail(10)"
   ]
  },
  {
   "cell_type": "code",
   "execution_count": 153,
   "id": "f2e0f744",
   "metadata": {},
   "outputs": [],
   "source": [
    "a = pd.Series(names)"
   ]
  },
  {
   "cell_type": "code",
   "execution_count": 158,
   "id": "787099f3",
   "metadata": {},
   "outputs": [],
   "source": [
    "def surname(x):\n",
    "    return x.split()[1]"
   ]
  },
  {
   "cell_type": "code",
   "execution_count": 159,
   "id": "2abfd461",
   "metadata": {},
   "outputs": [
    {
     "data": {
      "text/plain": [
       "0        Bennett\n",
       "1        Sanchez\n",
       "2         Murphy\n",
       "3       Mcmillan\n",
       "4       Williams\n",
       "5          Perez\n",
       "6         Morgan\n",
       "7     Washington\n",
       "8        Stewart\n",
       "9       Randolph\n",
       "10         Burns\n",
       "11      Chambers\n",
       "12      Griffith\n",
       "13         Young\n",
       "14      Ferguson\n",
       "dtype: object"
      ]
     },
     "execution_count": 159,
     "metadata": {},
     "output_type": "execute_result"
    }
   ],
   "source": [
    "a.apply(surname)"
   ]
  },
  {
   "cell_type": "code",
   "execution_count": 161,
   "id": "bdee1228",
   "metadata": {},
   "outputs": [
    {
     "data": {
      "text/plain": [
       "0       Robert\n",
       "1      Valerie\n",
       "2      Kenneth\n",
       "3       Jeremy\n",
       "4       Gloria\n",
       "5     Michelle\n",
       "6     Courtney\n",
       "7        Sarah\n",
       "8        Jason\n",
       "9        Karen\n",
       "10      Dennis\n",
       "11       Kelly\n",
       "12    Jonathan\n",
       "13     Dominic\n",
       "14    Kimberly\n",
       "dtype: object"
      ]
     },
     "execution_count": 161,
     "metadata": {},
     "output_type": "execute_result"
    }
   ],
   "source": [
    "a.apply(lambda s: s.split()[0])"
   ]
  },
  {
   "cell_type": "code",
   "execution_count": 162,
   "id": "12716d6a",
   "metadata": {},
   "outputs": [
    {
     "data": {
      "text/plain": [
       "0     14\n",
       "1     15\n",
       "2     14\n",
       "3     15\n",
       "4     15\n",
       "5     14\n",
       "6     15\n",
       "7     16\n",
       "8     13\n",
       "9     14\n",
       "10    12\n",
       "11    14\n",
       "12    17\n",
       "13    13\n",
       "14    17\n",
       "dtype: int64"
      ]
     },
     "execution_count": 162,
     "metadata": {},
     "output_type": "execute_result"
    }
   ],
   "source": [
    "a.apply(lambda s: len(s))"
   ]
  },
  {
   "cell_type": "code",
   "execution_count": null,
   "id": "8e9aea52",
   "metadata": {},
   "outputs": [],
   "source": []
  }
 ],
 "metadata": {
  "kernelspec": {
   "display_name": "Python 3 (ipykernel)",
   "language": "python",
   "name": "python3"
  },
  "language_info": {
   "codemirror_mode": {
    "name": "ipython",
    "version": 3
   },
   "file_extension": ".py",
   "mimetype": "text/x-python",
   "name": "python",
   "nbconvert_exporter": "python",
   "pygments_lexer": "ipython3",
   "version": "3.11.3"
  }
 },
 "nbformat": 4,
 "nbformat_minor": 5
}
